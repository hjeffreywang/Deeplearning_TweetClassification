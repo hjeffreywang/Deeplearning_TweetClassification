{
 "cells": [
  {
   "cell_type": "code",
   "execution_count": 30,
   "id": "d84720ea",
   "metadata": {
    "execution": {
     "iopub.execute_input": "2023-06-06T17:17:21.190838Z",
     "iopub.status.busy": "2023-06-06T17:17:21.190127Z",
     "iopub.status.idle": "2023-06-06T17:17:27.090731Z",
     "shell.execute_reply": "2023-06-06T17:17:27.089446Z"
    },
    "papermill": {
     "duration": 5.910928,
     "end_time": "2023-06-06T17:17:27.093646",
     "exception": false,
     "start_time": "2023-06-06T17:17:21.182718",
     "status": "completed"
    },
    "tags": []
   },
   "outputs": [],
   "source": [
    "# tqdm for showing training progress\n",
    "# nltk for pre-processing (removing stop words)\n",
    "\n",
    "import pandas as pd\n",
    "import torch\n",
    "import torch.nn as nn\n",
    "from torch.utils.data import DataLoader, Dataset\n",
    "from torch.nn.utils.rnn import pad_sequence\n",
    "import torch.optim as optim\n",
    "import torch.nn.functional as F\n",
    "from tqdm import tqdm\n",
    "import numpy as np\n",
    "import nltk\n",
    "from nltk.corpus import stopwords\n",
    "import re\n",
    "import matplotlib.pyplot as plt"
   ]
  },
  {
   "cell_type": "markdown",
   "id": "5b6116ec",
   "metadata": {},
   "source": [
    "# EDA"
   ]
  },
  {
   "cell_type": "markdown",
   "id": "a91f0d35",
   "metadata": {},
   "source": [
    "The data is comprised of 7613 observations and 5 features. However, a majority of observations in the 'keywords' and 'location' features are nulls. Therefore, these two features will not be considered during the training process. Additionally, the 'id' field serves as an index and is not required for training purposes. The 'text' feature serves as the input data, while the 'target' field represents the output data.\n",
    "\n",
    "Upon examining the values in the 'target' feature, we find that it contains two unique values: 0, which indicates a false alert, and 1, which indicates a true alert. Moving on to the testing data, it consists of 3263 rows. According to the statistical information, approximately 57% of the training data corresponds to false alerts, while the remaining 43% corresponds to true alerts."
   ]
  },
  {
   "cell_type": "code",
   "execution_count": 31,
   "id": "be550395",
   "metadata": {},
   "outputs": [],
   "source": [
    "eda_df=pd.read_csv('train.csv')"
   ]
  },
  {
   "cell_type": "code",
   "execution_count": 34,
   "id": "7cb14450",
   "metadata": {},
   "outputs": [
    {
     "data": {
      "text/html": [
       "<div>\n",
       "<style scoped>\n",
       "    .dataframe tbody tr th:only-of-type {\n",
       "        vertical-align: middle;\n",
       "    }\n",
       "\n",
       "    .dataframe tbody tr th {\n",
       "        vertical-align: top;\n",
       "    }\n",
       "\n",
       "    .dataframe thead th {\n",
       "        text-align: right;\n",
       "    }\n",
       "</style>\n",
       "<table border=\"1\" class=\"dataframe\">\n",
       "  <thead>\n",
       "    <tr style=\"text-align: right;\">\n",
       "      <th></th>\n",
       "      <th>id</th>\n",
       "      <th>keyword</th>\n",
       "      <th>location</th>\n",
       "      <th>text</th>\n",
       "      <th>target</th>\n",
       "    </tr>\n",
       "  </thead>\n",
       "  <tbody>\n",
       "    <tr>\n",
       "      <th>0</th>\n",
       "      <td>1</td>\n",
       "      <td>NaN</td>\n",
       "      <td>NaN</td>\n",
       "      <td>Our Deeds are the Reason of this #earthquake M...</td>\n",
       "      <td>1</td>\n",
       "    </tr>\n",
       "    <tr>\n",
       "      <th>1</th>\n",
       "      <td>4</td>\n",
       "      <td>NaN</td>\n",
       "      <td>NaN</td>\n",
       "      <td>Forest fire near La Ronge Sask. Canada</td>\n",
       "      <td>1</td>\n",
       "    </tr>\n",
       "    <tr>\n",
       "      <th>2</th>\n",
       "      <td>5</td>\n",
       "      <td>NaN</td>\n",
       "      <td>NaN</td>\n",
       "      <td>All residents asked to 'shelter in place' are ...</td>\n",
       "      <td>1</td>\n",
       "    </tr>\n",
       "    <tr>\n",
       "      <th>3</th>\n",
       "      <td>6</td>\n",
       "      <td>NaN</td>\n",
       "      <td>NaN</td>\n",
       "      <td>13,000 people receive #wildfires evacuation or...</td>\n",
       "      <td>1</td>\n",
       "    </tr>\n",
       "    <tr>\n",
       "      <th>4</th>\n",
       "      <td>7</td>\n",
       "      <td>NaN</td>\n",
       "      <td>NaN</td>\n",
       "      <td>Just got sent this photo from Ruby #Alaska as ...</td>\n",
       "      <td>1</td>\n",
       "    </tr>\n",
       "  </tbody>\n",
       "</table>\n",
       "</div>"
      ],
      "text/plain": [
       "   id keyword location                                               text  \\\n",
       "0   1     NaN      NaN  Our Deeds are the Reason of this #earthquake M...   \n",
       "1   4     NaN      NaN             Forest fire near La Ronge Sask. Canada   \n",
       "2   5     NaN      NaN  All residents asked to 'shelter in place' are ...   \n",
       "3   6     NaN      NaN  13,000 people receive #wildfires evacuation or...   \n",
       "4   7     NaN      NaN  Just got sent this photo from Ruby #Alaska as ...   \n",
       "\n",
       "   target  \n",
       "0       1  \n",
       "1       1  \n",
       "2       1  \n",
       "3       1  \n",
       "4       1  "
      ]
     },
     "execution_count": 34,
     "metadata": {},
     "output_type": "execute_result"
    }
   ],
   "source": [
    "eda_df.head()\n",
    "#\"keyword\", 'location' are mostly nulls"
   ]
  },
  {
   "cell_type": "code",
   "execution_count": 32,
   "id": "7a1c8dcd",
   "metadata": {},
   "outputs": [
    {
     "name": "stdout",
     "output_type": "stream",
     "text": [
      "<class 'pandas.core.frame.DataFrame'>\n",
      "RangeIndex: 7613 entries, 0 to 7612\n",
      "Data columns (total 5 columns):\n",
      " #   Column    Non-Null Count  Dtype \n",
      "---  ------    --------------  ----- \n",
      " 0   id        7613 non-null   int64 \n",
      " 1   keyword   7552 non-null   object\n",
      " 2   location  5080 non-null   object\n",
      " 3   text      7613 non-null   object\n",
      " 4   target    7613 non-null   int64 \n",
      "dtypes: int64(2), object(3)\n",
      "memory usage: 297.5+ KB\n"
     ]
    }
   ],
   "source": [
    "eda_df.info()\n",
    " "
   ]
  },
  {
   "cell_type": "code",
   "execution_count": 35,
   "id": "96059b0f",
   "metadata": {},
   "outputs": [
    {
     "data": {
      "text/html": [
       "<div>\n",
       "<style scoped>\n",
       "    .dataframe tbody tr th:only-of-type {\n",
       "        vertical-align: middle;\n",
       "    }\n",
       "\n",
       "    .dataframe tbody tr th {\n",
       "        vertical-align: top;\n",
       "    }\n",
       "\n",
       "    .dataframe thead th {\n",
       "        text-align: right;\n",
       "    }\n",
       "</style>\n",
       "<table border=\"1\" class=\"dataframe\">\n",
       "  <thead>\n",
       "    <tr style=\"text-align: right;\">\n",
       "      <th></th>\n",
       "      <th>id</th>\n",
       "      <th>target</th>\n",
       "    </tr>\n",
       "  </thead>\n",
       "  <tbody>\n",
       "    <tr>\n",
       "      <th>count</th>\n",
       "      <td>7613.000000</td>\n",
       "      <td>7613.00000</td>\n",
       "    </tr>\n",
       "    <tr>\n",
       "      <th>mean</th>\n",
       "      <td>5441.934848</td>\n",
       "      <td>0.42966</td>\n",
       "    </tr>\n",
       "    <tr>\n",
       "      <th>std</th>\n",
       "      <td>3137.116090</td>\n",
       "      <td>0.49506</td>\n",
       "    </tr>\n",
       "    <tr>\n",
       "      <th>min</th>\n",
       "      <td>1.000000</td>\n",
       "      <td>0.00000</td>\n",
       "    </tr>\n",
       "    <tr>\n",
       "      <th>25%</th>\n",
       "      <td>2734.000000</td>\n",
       "      <td>0.00000</td>\n",
       "    </tr>\n",
       "    <tr>\n",
       "      <th>50%</th>\n",
       "      <td>5408.000000</td>\n",
       "      <td>0.00000</td>\n",
       "    </tr>\n",
       "    <tr>\n",
       "      <th>75%</th>\n",
       "      <td>8146.000000</td>\n",
       "      <td>1.00000</td>\n",
       "    </tr>\n",
       "    <tr>\n",
       "      <th>max</th>\n",
       "      <td>10873.000000</td>\n",
       "      <td>1.00000</td>\n",
       "    </tr>\n",
       "  </tbody>\n",
       "</table>\n",
       "</div>"
      ],
      "text/plain": [
       "                 id      target\n",
       "count   7613.000000  7613.00000\n",
       "mean    5441.934848     0.42966\n",
       "std     3137.116090     0.49506\n",
       "min        1.000000     0.00000\n",
       "25%     2734.000000     0.00000\n",
       "50%     5408.000000     0.00000\n",
       "75%     8146.000000     1.00000\n",
       "max    10873.000000     1.00000"
      ]
     },
     "execution_count": 35,
     "metadata": {},
     "output_type": "execute_result"
    }
   ],
   "source": [
    "eda_df.describe()"
   ]
  },
  {
   "cell_type": "code",
   "execution_count": 33,
   "id": "0311f357",
   "metadata": {},
   "outputs": [
    {
     "name": "stdout",
     "output_type": "stream",
     "text": [
      "0    4342\n",
      "1    3271\n",
      "Name: target, dtype: int64\n"
     ]
    },
    {
     "data": {
      "image/png": "[encoded data removed]",
      "text/plain": [
       "<Figure size 432x288 with 1 Axes>"
      ]
     },
     "metadata": {},
     "output_type": "display_data"
    }
   ],
   "source": [
    "vc = eda_df['target'].value_counts()     \n",
    "print(vc)\n",
    "labels = ['Fake', 'Real']\n",
    "plt.pie(vc,autopct='%1.1f%%',labels=labels)\n",
    "plt.legend(vc.index, loc='best')\n",
    "plt.show()"
   ]
  },
  {
   "cell_type": "markdown",
   "id": "ede1a52f",
   "metadata": {
    "papermill": {
     "duration": 0.00535,
     "end_time": "2023-06-06T17:17:27.104954",
     "exception": false,
     "start_time": "2023-06-06T17:17:27.099604",
     "status": "completed"
    },
    "tags": []
   },
   "source": [
    "# **Hyperparameters and Tuning**\n",
    "We need to define hyperparameters such as the batch size and learnign rate. This is done at the start of the code rather than later for readability.\n",
    "\n",
    "Here is a list of what they do:\n",
    "1. BATCH_SIZE : Defines how many items are used each training step\n",
    "2. LEARNING_RATE : Defines the learning rate aka how much the models weights are updated each training step\n",
    "3. EPOCHS : For how long the model will train for\n",
    "4. VAL_SPLIT = This indicates how much data we use for training and validation. If it is set to 0.05, 95% of the dataset from train.csv will be used for training and the other 5% will be used to meassure the accuracy. \n",
    "\n",
    "\n",
    "EPOCHS and Learning rate were tuned after testing to improve the data."
   ]
  },
  {
   "cell_type": "code",
   "execution_count": 8,
   "id": "c62e8cee",
   "metadata": {
    "execution": {
     "iopub.execute_input": "2023-06-06T17:17:27.118278Z",
     "iopub.status.busy": "2023-06-06T17:17:27.117574Z",
     "iopub.status.idle": "2023-06-06T17:17:27.122986Z",
     "shell.execute_reply": "2023-06-06T17:17:27.121854Z"
    },
    "papermill": {
     "duration": 0.01514,
     "end_time": "2023-06-06T17:17:27.125634",
     "exception": false,
     "start_time": "2023-06-06T17:17:27.110494",
     "status": "completed"
    },
    "tags": []
   },
   "outputs": [],
   "source": [
    "BATCH_SIZE = 64\n",
    "LEARNING_RATE = 0.01\n",
    "EPOCHS = 100 #\n",
    "VAL_SPLIT = 0.05"
   ]
  },
  {
   "cell_type": "markdown",
   "id": "dab9564c",
   "metadata": {
    "papermill": {
     "duration": 0.005367,
     "end_time": "2023-06-06T17:17:27.137045",
     "exception": false,
     "start_time": "2023-06-06T17:17:27.131678",
     "status": "completed"
    },
    "tags": []
   },
   "source": [
    "# **Initialize a list of stop words**\n",
    "Stop words are words that do not add meaning to a sentence and are often removed prior to training. "
   ]
  },
  {
   "cell_type": "code",
   "execution_count": 9,
   "id": "562b3429",
   "metadata": {
    "execution": {
     "iopub.execute_input": "2023-06-06T17:17:27.149851Z",
     "iopub.status.busy": "2023-06-06T17:17:27.149421Z",
     "iopub.status.idle": "2023-06-06T17:17:27.261813Z",
     "shell.execute_reply": "2023-06-06T17:17:27.260954Z"
    },
    "papermill": {
     "duration": 0.121731,
     "end_time": "2023-06-06T17:17:27.264280",
     "exception": false,
     "start_time": "2023-06-06T17:17:27.142549",
     "status": "completed"
    },
    "tags": []
   },
   "outputs": [
    {
     "name": "stderr",
     "output_type": "stream",
     "text": [
      "[nltk_data] Downloading package stopwords to /home/jeffwa/nltk_data...\n",
      "[nltk_data]   Package stopwords is already up-to-date!\n"
     ]
    }
   ],
   "source": [
    "nltk.download('stopwords')\n",
    "\n",
    "stop_words = set(stopwords.words('english'))"
   ]
  },
  {
   "cell_type": "markdown",
   "id": "d7528b25",
   "metadata": {
    "papermill": {
     "duration": 0.005998,
     "end_time": "2023-06-06T17:17:27.279435",
     "exception": false,
     "start_time": "2023-06-06T17:17:27.273437",
     "status": "completed"
    },
    "tags": []
   },
   "source": [
    "# **The encoder/decoder function**\n",
    "The encoder function splits the string into all of its words and looks up the index of each one. This way we get a list of integers that can be pased through the embedding layer of the model"
   ]
  },
  {
   "cell_type": "code",
   "execution_count": 10,
   "id": "031cfc92",
   "metadata": {
    "execution": {
     "iopub.execute_input": "2023-06-06T17:17:27.293214Z",
     "iopub.status.busy": "2023-06-06T17:17:27.292241Z",
     "iopub.status.idle": "2023-06-06T17:17:27.299342Z",
     "shell.execute_reply": "2023-06-06T17:17:27.297936Z"
    },
    "papermill": {
     "duration": 0.017212,
     "end_time": "2023-06-06T17:17:27.302363",
     "exception": false,
     "start_time": "2023-06-06T17:17:27.285151",
     "status": "completed"
    },
    "tags": []
   },
   "outputs": [],
   "source": [
    "vocabulary = []\n",
    "\n",
    "def encode(str):\n",
    "    return [vocabulary.index(word) for word in str.split(' ') if word not in stop_words]\n",
    "\n",
    "\n",
    "def decode(seq):\n",
    "    return \"\".join([vocabulary[index] for index in seq])"
   ]
  },
  {
   "cell_type": "code",
   "execution_count": 11,
   "id": "fe89ac04",
   "metadata": {
    "execution": {
     "iopub.execute_input": "2023-06-06T17:17:27.326738Z",
     "iopub.status.busy": "2023-06-06T17:17:27.326320Z",
     "iopub.status.idle": "2023-06-06T17:17:27.344332Z",
     "shell.execute_reply": "2023-06-06T17:17:27.343461Z"
    },
    "papermill": {
     "duration": 0.027539,
     "end_time": "2023-06-06T17:17:27.346803",
     "exception": false,
     "start_time": "2023-06-06T17:17:27.319264",
     "status": "completed"
    },
    "tags": []
   },
   "outputs": [],
   "source": [
    "class dataset(Dataset):\n",
    "    def __init__(self, split='train'):\n",
    "        self.split = split\n",
    "        \n",
    "        if split == 'train':\n",
    "            self.dataset = pd.read_csv('train.csv')\n",
    "            '''self.dataset = pd.read_csv('/kaggle/input/nlp-getting-started/train.csv')'''\n",
    "            self.dataset = self.dataset.iloc[:round(len(self.dataset) * (1 - VAL_SPLIT))]\n",
    "            \n",
    "            self.clean()\n",
    "            \n",
    "            self.X = self.dataset['text']\n",
    "            self.Y = self.dataset['target']\n",
    "        elif split == 'val':\n",
    "            self.dataset = pd.read_csv('train.csv')\n",
    "            '''self.dataset = pd.read_csv('/kaggle/input/nlp-getting-started/train.csv')'''\n",
    "            self.dataset = self.dataset.iloc[round(len(self.dataset) * (1 - VAL_SPLIT)):]\n",
    "            \n",
    "            self.clean()\n",
    "            \n",
    "            self.X = self.dataset['text']\n",
    "            self.Y = self.dataset['target']\n",
    "        else:\n",
    "            self.dataset = pd.read_csv('test.csv')\n",
    "            '''self.dataset = pd.read_csv('/kaggle/input/nlp-getting-started/test.csv')'''\n",
    "            self.clean()\n",
    "            \n",
    "            self.X = self.dataset['text']\n",
    "    \n",
    "    def add_vocab(self):\n",
    "        for str in self.dataset['text']:\n",
    "            for item in str.split(' '):\n",
    "                if item not in vocabulary and item not in stop_words:\n",
    "                    vocabulary.append(item)\n",
    "            \n",
    "    def clean(self):\n",
    "        self.dataset['text'] = self.dataset['text'].str.lower()\n",
    "        self.dataset['text'] = self.dataset['text'].str.replace('@\\w+', '', regex=True) # remove usernames\n",
    "        self.dataset['text'] = self.dataset['text'].apply(lambda x: re.sub(r'[^a-zA-Z\\s]', '', x))\n",
    "        \n",
    "        self.add_vocab()\n",
    "        \n",
    "        self.dataset['text'] = self.dataset['text'].apply(encode)\n",
    "        \n",
    "    def __len__(self):\n",
    "        return len(self.X)\n",
    "    \n",
    "    def __getitem__(self, idx):\n",
    "        if self.split == 'train' or self.split == 'val':\n",
    "            return torch.tensor(self.X.iloc[idx], dtype=torch.long), torch.tensor(self.Y.iloc[idx], dtype=torch.long)\n",
    "        else:\n",
    "            return torch.tensor(self.X.iloc[idx], dtype=torch.long), torch.tensor(self.dataset['id'].iloc[idx], dtype=torch.int)\n",
    "\n",
    "def collate_fn(batch):\n",
    "    x, y = zip(*batch)\n",
    "    return pad_sequence(x, batch_first=True, padding_value=0), torch.tensor(y)\n"
   ]
  },
  {
   "cell_type": "code",
   "execution_count": 17,
   "id": "6387e327",
   "metadata": {},
   "outputs": [],
   "source": []
  },
  {
   "cell_type": "code",
   "execution_count": 18,
   "id": "b4d5feea",
   "metadata": {},
   "outputs": [
    {
     "data": {
      "text/html": [
       "<div>\n",
       "<style scoped>\n",
       "    .dataframe tbody tr th:only-of-type {\n",
       "        vertical-align: middle;\n",
       "    }\n",
       "\n",
       "    .dataframe tbody tr th {\n",
       "        vertical-align: top;\n",
       "    }\n",
       "\n",
       "    .dataframe thead th {\n",
       "        text-align: right;\n",
       "    }\n",
       "</style>\n",
       "<table border=\"1\" class=\"dataframe\">\n",
       "  <thead>\n",
       "    <tr style=\"text-align: right;\">\n",
       "      <th></th>\n",
       "      <th>id</th>\n",
       "      <th>keyword</th>\n",
       "      <th>location</th>\n",
       "      <th>text</th>\n",
       "      <th>target</th>\n",
       "    </tr>\n",
       "  </thead>\n",
       "  <tbody>\n",
       "    <tr>\n",
       "      <th>0</th>\n",
       "      <td>1</td>\n",
       "      <td>NaN</td>\n",
       "      <td>NaN</td>\n",
       "      <td>Our Deeds are the Reason of this #earthquake M...</td>\n",
       "      <td>1</td>\n",
       "    </tr>\n",
       "    <tr>\n",
       "      <th>1</th>\n",
       "      <td>4</td>\n",
       "      <td>NaN</td>\n",
       "      <td>NaN</td>\n",
       "      <td>Forest fire near La Ronge Sask. Canada</td>\n",
       "      <td>1</td>\n",
       "    </tr>\n",
       "    <tr>\n",
       "      <th>2</th>\n",
       "      <td>5</td>\n",
       "      <td>NaN</td>\n",
       "      <td>NaN</td>\n",
       "      <td>All residents asked to 'shelter in place' are ...</td>\n",
       "      <td>1</td>\n",
       "    </tr>\n",
       "    <tr>\n",
       "      <th>3</th>\n",
       "      <td>6</td>\n",
       "      <td>NaN</td>\n",
       "      <td>NaN</td>\n",
       "      <td>13,000 people receive #wildfires evacuation or...</td>\n",
       "      <td>1</td>\n",
       "    </tr>\n",
       "    <tr>\n",
       "      <th>4</th>\n",
       "      <td>7</td>\n",
       "      <td>NaN</td>\n",
       "      <td>NaN</td>\n",
       "      <td>Just got sent this photo from Ruby #Alaska as ...</td>\n",
       "      <td>1</td>\n",
       "    </tr>\n",
       "    <tr>\n",
       "      <th>...</th>\n",
       "      <td>...</td>\n",
       "      <td>...</td>\n",
       "      <td>...</td>\n",
       "      <td>...</td>\n",
       "      <td>...</td>\n",
       "    </tr>\n",
       "    <tr>\n",
       "      <th>7608</th>\n",
       "      <td>10869</td>\n",
       "      <td>NaN</td>\n",
       "      <td>NaN</td>\n",
       "      <td>Two giant cranes holding a bridge collapse int...</td>\n",
       "      <td>1</td>\n",
       "    </tr>\n",
       "    <tr>\n",
       "      <th>7609</th>\n",
       "      <td>10870</td>\n",
       "      <td>NaN</td>\n",
       "      <td>NaN</td>\n",
       "      <td>@aria_ahrary @TheTawniest The out of control w...</td>\n",
       "      <td>1</td>\n",
       "    </tr>\n",
       "    <tr>\n",
       "      <th>7610</th>\n",
       "      <td>10871</td>\n",
       "      <td>NaN</td>\n",
       "      <td>NaN</td>\n",
       "      <td>M1.94 [01:04 UTC]?5km S of Volcano Hawaii. htt...</td>\n",
       "      <td>1</td>\n",
       "    </tr>\n",
       "    <tr>\n",
       "      <th>7611</th>\n",
       "      <td>10872</td>\n",
       "      <td>NaN</td>\n",
       "      <td>NaN</td>\n",
       "      <td>Police investigating after an e-bike collided ...</td>\n",
       "      <td>1</td>\n",
       "    </tr>\n",
       "    <tr>\n",
       "      <th>7612</th>\n",
       "      <td>10873</td>\n",
       "      <td>NaN</td>\n",
       "      <td>NaN</td>\n",
       "      <td>The Latest: More Homes Razed by Northern Calif...</td>\n",
       "      <td>1</td>\n",
       "    </tr>\n",
       "  </tbody>\n",
       "</table>\n",
       "<p>7613 rows × 5 columns</p>\n",
       "</div>"
      ],
      "text/plain": [
       "         id keyword location  \\\n",
       "0         1     NaN      NaN   \n",
       "1         4     NaN      NaN   \n",
       "2         5     NaN      NaN   \n",
       "3         6     NaN      NaN   \n",
       "4         7     NaN      NaN   \n",
       "...     ...     ...      ...   \n",
       "7608  10869     NaN      NaN   \n",
       "7609  10870     NaN      NaN   \n",
       "7610  10871     NaN      NaN   \n",
       "7611  10872     NaN      NaN   \n",
       "7612  10873     NaN      NaN   \n",
       "\n",
       "                                                   text  target  \n",
       "0     Our Deeds are the Reason of this #earthquake M...       1  \n",
       "1                Forest fire near La Ronge Sask. Canada       1  \n",
       "2     All residents asked to 'shelter in place' are ...       1  \n",
       "3     13,000 people receive #wildfires evacuation or...       1  \n",
       "4     Just got sent this photo from Ruby #Alaska as ...       1  \n",
       "...                                                 ...     ...  \n",
       "7608  Two giant cranes holding a bridge collapse int...       1  \n",
       "7609  @aria_ahrary @TheTawniest The out of control w...       1  \n",
       "7610  M1.94 [01:04 UTC]?5km S of Volcano Hawaii. htt...       1  \n",
       "7611  Police investigating after an e-bike collided ...       1  \n",
       "7612  The Latest: More Homes Razed by Northern Calif...       1  \n",
       "\n",
       "[7613 rows x 5 columns]"
      ]
     },
     "execution_count": 18,
     "metadata": {},
     "output_type": "execute_result"
    }
   ],
   "source": [
    "eda_df"
   ]
  },
  {
   "cell_type": "code",
   "execution_count": 21,
   "id": "9ca2e655",
   "metadata": {},
   "outputs": [
    {
     "name": "stdout",
     "output_type": "stream",
     "text": [
      "<class 'pandas.core.frame.DataFrame'>\n",
      "RangeIndex: 7613 entries, 0 to 7612\n",
      "Data columns (total 5 columns):\n",
      " #   Column    Non-Null Count  Dtype \n",
      "---  ------    --------------  ----- \n",
      " 0   id        7613 non-null   int64 \n",
      " 1   keyword   7552 non-null   object\n",
      " 2   location  5080 non-null   object\n",
      " 3   text      7613 non-null   object\n",
      " 4   target    7613 non-null   int64 \n",
      "dtypes: int64(2), object(3)\n",
      "memory usage: 297.5+ KB\n"
     ]
    }
   ],
   "source": []
  },
  {
   "cell_type": "code",
   "execution_count": null,
   "id": "78855c07",
   "metadata": {},
   "outputs": [],
   "source": [
    "vc = self.train_df['target'].value_counts()     \n",
    "            print(vc)\n",
    "            labels = ['Fake', 'Real']\n",
    "            plt.pie(vc,autopct='%1.1f%%',labels=labels)\n",
    "            plt.legend(vc.index, loc='best')\n",
    "            plt.show()"
   ]
  },
  {
   "cell_type": "markdown",
   "id": "75f1bbc3",
   "metadata": {
    "papermill": {
     "duration": 0.005459,
     "end_time": "2023-06-06T17:17:27.358011",
     "exception": false,
     "start_time": "2023-06-06T17:17:27.352552",
     "status": "completed"
    },
    "tags": []
   },
   "source": [
    "# **Creating the Model**\n",
    "Our model consists of one [Embedding layer](https://pytorch.org/docs/stable/generated/torch.nn.Embedding.html) and four [Fully connected layers](https://pytorch.org/docs/stable/generated/torch.nn.Linear.html). As the embedding layer expands the dimensions of our input, we use torch.mean to reduce its dimension.\n",
    "\n",
    "\n",
    "## Model Architecture\n",
    "\n",
    "The structure of the training network is based on PyTorch's training materials for text classification.\n",
    "\n",
    "The model includes the following components:\n",
    "\n",
    "- Input layer\n",
    "- Vectorization layer: This layer is designed to standardize, tokenize, and vectorize the data. The vectorization process can be achieved with TorchText utilities.\n",
    "- Hidden layers of the network, which include an embedding layer, pooling layer, and dense layer.\n",
    "- The loss function used is CrossEntropyLoss.\n",
    "- Optimization is performed using the Adam optimizer.\n",
    "- Accuracy is used as the metric for evaluation.\n",
    "- Training is stopped early if the validation accuracy doesn't increase for 3 consecutive epochs.\n",
    "- Two versions of the model, one using integer vectorization and the other using binary vectorization, are tested. The hyperparameters are adjusted through multiple iterations to prevent overfitting and underfitting while maintaining acceptable accuracy."
   ]
  },
  {
   "cell_type": "code",
   "execution_count": 12,
   "id": "dacbb956",
   "metadata": {
    "execution": {
     "iopub.execute_input": "2023-06-06T17:17:27.371492Z",
     "iopub.status.busy": "2023-06-06T17:17:27.370776Z",
     "iopub.status.idle": "2023-06-06T17:17:27.379218Z",
     "shell.execute_reply": "2023-06-06T17:17:27.378190Z"
    },
    "papermill": {
     "duration": 0.018274,
     "end_time": "2023-06-06T17:17:27.381883",
     "exception": false,
     "start_time": "2023-06-06T17:17:27.363609",
     "status": "completed"
    },
    "tags": []
   },
   "outputs": [],
   "source": [
    "class Classifier(nn.Module):\n",
    "    def __init__(self):\n",
    "        super().__init__()\n",
    "        \n",
    "        self.embedding = nn.Embedding(len(vocabulary), 256) # vocab size x embedding dimension\n",
    "        self.fc1 = nn.Linear(256, 512)\n",
    "        self.fc2 = nn.Linear(512, 512)\n",
    "        self.fc3 = nn.Linear(512, 512)\n",
    "        self.fc4 = nn.Linear(512, 2)\n",
    "        \n",
    "    def forward(self, x):\n",
    "        x = self.embedding(x)\n",
    "        x = F.relu(self.fc1(x))\n",
    "        x = F.relu(self.fc2(x))\n",
    "        x = F.relu(self.fc3(x))\n",
    "        x = torch.mean(x, dim=1) \n",
    "        x = self.fc4(x)\n",
    "        \n",
    "        return x\n",
    "        "
   ]
  },
  {
   "cell_type": "markdown",
   "id": "1cfaf245",
   "metadata": {
    "papermill": {
     "duration": 0.005321,
     "end_time": "2023-06-06T17:17:27.392946",
     "exception": false,
     "start_time": "2023-06-06T17:17:27.387625",
     "status": "completed"
    },
    "tags": []
   },
   "source": [
    "# **Training the model**\n",
    "First of all we start off by creating two instances of the Dataset class, one for training, one for validation, one for testing. Then we create a DataLoader for each of them.\n",
    "\n",
    "A new instance of our model, our optimizer and a CrossEntropyLoss function.\n",
    "\n",
    "We define a function to calculate the accuracy by counting the total amount of correct predictions of a batch. \n",
    "\n",
    "We define a function to evaluate the models' performance on the validation dataset using the previously defined function.\n",
    "\n",
    "Then for each epoch we loop through the batches and calculate the loss between the target batch and the networks predictions. Then we adjust the networks' weights and biases using backpropagation. The models' accuracy on the validation dataset is assesed after each epoch.\n"
   ]
  },
  {
   "cell_type": "code",
   "execution_count": 13,
   "id": "36d8aeb3",
   "metadata": {
    "execution": {
     "iopub.execute_input": "2023-06-06T17:17:27.406554Z",
     "iopub.status.busy": "2023-06-06T17:17:27.405868Z",
     "iopub.status.idle": "2023-06-06T17:29:46.198513Z",
     "shell.execute_reply": "2023-06-06T17:29:46.197270Z"
    },
    "papermill": {
     "duration": 738.802566,
     "end_time": "2023-06-06T17:29:46.201422",
     "exception": false,
     "start_time": "2023-06-06T17:17:27.398856",
     "status": "completed"
    },
    "scrolled": true,
    "tags": []
   },
   "outputs": [
    {
     "name": "stderr",
     "output_type": "stream",
     "text": [
      "Epoch [1/100]: 100%|███| 113/113 [00:02<00:00, 38.65it/s, acc=0.574, loss=0.681]\n"
     ]
    },
    {
     "name": "stdout",
     "output_type": "stream",
     "text": [
      "Validation accuracy 0.453978825136612\n"
     ]
    },
    {
     "name": "stderr",
     "output_type": "stream",
     "text": [
      "Epoch [2/100]: 100%|███| 113/113 [00:02<00:00, 40.65it/s, acc=0.576, loss=0.677]\n"
     ]
    },
    {
     "name": "stdout",
     "output_type": "stream",
     "text": [
      "Validation accuracy 0.4542349726775956\n"
     ]
    },
    {
     "name": "stderr",
     "output_type": "stream",
     "text": [
      "Epoch [3/100]: 100%|███| 113/113 [00:02<00:00, 38.81it/s, acc=0.576, loss=0.676]\n"
     ]
    },
    {
     "name": "stdout",
     "output_type": "stream",
     "text": [
      "Validation accuracy 0.45436304644808745\n"
     ]
    },
    {
     "name": "stderr",
     "output_type": "stream",
     "text": [
      "Epoch [4/100]: 100%|███| 113/113 [00:02<00:00, 38.89it/s, acc=0.576, loss=0.674]\n"
     ]
    },
    {
     "name": "stdout",
     "output_type": "stream",
     "text": [
      "Validation accuracy 0.45385075136612024\n"
     ]
    },
    {
     "name": "stderr",
     "output_type": "stream",
     "text": [
      "Epoch [5/100]: 100%|███| 113/113 [00:02<00:00, 37.86it/s, acc=0.576, loss=0.674]\n"
     ]
    },
    {
     "name": "stdout",
     "output_type": "stream",
     "text": [
      "Validation accuracy 0.45137465846994534\n"
     ]
    },
    {
     "name": "stderr",
     "output_type": "stream",
     "text": [
      "Epoch [6/100]: 100%|███| 113/113 [00:02<00:00, 40.24it/s, acc=0.576, loss=0.673]\n"
     ]
    },
    {
     "name": "stdout",
     "output_type": "stream",
     "text": [
      "Validation accuracy 0.4568391393442623\n"
     ]
    },
    {
     "name": "stderr",
     "output_type": "stream",
     "text": [
      "Epoch [7/100]: 100%|███| 113/113 [00:02<00:00, 40.17it/s, acc=0.573, loss=0.672]\n"
     ]
    },
    {
     "name": "stdout",
     "output_type": "stream",
     "text": [
      "Validation accuracy 0.4516308060109289\n"
     ]
    },
    {
     "name": "stderr",
     "output_type": "stream",
     "text": [
      "Epoch [8/100]: 100%|███| 113/113 [00:02<00:00, 40.48it/s, acc=0.577, loss=0.671]\n"
     ]
    },
    {
     "name": "stdout",
     "output_type": "stream",
     "text": [
      "Validation accuracy 0.453978825136612\n"
     ]
    },
    {
     "name": "stderr",
     "output_type": "stream",
     "text": [
      "Epoch [9/100]: 100%|███| 113/113 [00:02<00:00, 39.69it/s, acc=0.573, loss=0.671]\n"
     ]
    },
    {
     "name": "stdout",
     "output_type": "stream",
     "text": [
      "Validation accuracy 0.45969945355191255\n"
     ]
    },
    {
     "name": "stderr",
     "output_type": "stream",
     "text": [
      "Epoch [10/100]: 100%|██| 113/113 [00:02<00:00, 39.84it/s, acc=0.575, loss=0.671]\n"
     ]
    },
    {
     "name": "stdout",
     "output_type": "stream",
     "text": [
      "Validation accuracy 0.4692196038251366\n"
     ]
    },
    {
     "name": "stderr",
     "output_type": "stream",
     "text": [
      "Epoch [11/100]: 100%|███| 113/113 [00:02<00:00, 40.16it/s, acc=0.577, loss=0.67]\n"
     ]
    },
    {
     "name": "stdout",
     "output_type": "stream",
     "text": [
      "Validation accuracy 0.46153517759562845\n"
     ]
    },
    {
     "name": "stderr",
     "output_type": "stream",
     "text": [
      "Epoch [12/100]: 100%|███| 113/113 [00:02<00:00, 41.34it/s, acc=0.579, loss=0.67]\n"
     ]
    },
    {
     "name": "stdout",
     "output_type": "stream",
     "text": [
      "Validation accuracy 0.47583674863387976\n"
     ]
    },
    {
     "name": "stderr",
     "output_type": "stream",
     "text": [
      "Epoch [13/100]: 100%|███| 113/113 [00:02<00:00, 42.84it/s, acc=0.576, loss=0.67]\n"
     ]
    },
    {
     "name": "stdout",
     "output_type": "stream",
     "text": [
      "Validation accuracy 0.46426741803278687\n"
     ]
    },
    {
     "name": "stderr",
     "output_type": "stream",
     "text": [
      "Epoch [14/100]: 100%|██| 113/113 [00:02<00:00, 42.41it/s, acc=0.575, loss=0.669]\n"
     ]
    },
    {
     "name": "stdout",
     "output_type": "stream",
     "text": [
      "Validation accuracy 0.47011612021857924\n"
     ]
    },
    {
     "name": "stderr",
     "output_type": "stream",
     "text": [
      "Epoch [15/100]: 100%|███| 113/113 [00:02<00:00, 43.18it/s, acc=0.575, loss=0.67]\n"
     ]
    },
    {
     "name": "stdout",
     "output_type": "stream",
     "text": [
      "Validation accuracy 0.47195184426229514\n"
     ]
    },
    {
     "name": "stderr",
     "output_type": "stream",
     "text": [
      "Epoch [16/100]: 100%|███| 113/113 [00:02<00:00, 42.77it/s, acc=0.573, loss=0.67]\n"
     ]
    },
    {
     "name": "stdout",
     "output_type": "stream",
     "text": [
      "Validation accuracy 0.4776724726775956\n"
     ]
    },
    {
     "name": "stderr",
     "output_type": "stream",
     "text": [
      "Epoch [17/100]: 100%|██| 113/113 [00:02<00:00, 43.66it/s, acc=0.577, loss=0.668]\n"
     ]
    },
    {
     "name": "stdout",
     "output_type": "stream",
     "text": [
      "Validation accuracy 0.47062841530054644\n"
     ]
    },
    {
     "name": "stderr",
     "output_type": "stream",
     "text": [
      "Epoch [18/100]: 100%|██| 113/113 [00:02<00:00, 42.64it/s, acc=0.574, loss=0.668]\n"
     ]
    },
    {
     "name": "stdout",
     "output_type": "stream",
     "text": [
      "Validation accuracy 0.4807889344262295\n"
     ]
    },
    {
     "name": "stderr",
     "output_type": "stream",
     "text": [
      "Epoch [19/100]: 100%|██| 113/113 [00:02<00:00, 43.86it/s, acc=0.578, loss=0.668]\n"
     ]
    },
    {
     "name": "stdout",
     "output_type": "stream",
     "text": [
      "Validation accuracy 0.48574112021857924\n"
     ]
    },
    {
     "name": "stderr",
     "output_type": "stream",
     "text": [
      "Epoch [20/100]: 100%|██| 113/113 [00:02<00:00, 41.79it/s, acc=0.582, loss=0.667]\n"
     ]
    },
    {
     "name": "stdout",
     "output_type": "stream",
     "text": [
      "Validation accuracy 0.4944501366120219\n"
     ]
    },
    {
     "name": "stderr",
     "output_type": "stream",
     "text": [
      "Epoch [21/100]: 100%|██| 113/113 [00:02<00:00, 38.81it/s, acc=0.576, loss=0.668]\n"
     ]
    },
    {
     "name": "stdout",
     "output_type": "stream",
     "text": [
      "Validation accuracy 0.4879610655737705\n"
     ]
    },
    {
     "name": "stderr",
     "output_type": "stream",
     "text": [
      "Epoch [22/100]: 100%|██| 113/113 [00:02<00:00, 40.34it/s, acc=0.581, loss=0.666]\n"
     ]
    },
    {
     "name": "stdout",
     "output_type": "stream",
     "text": [
      "Validation accuracy 0.5016222677595629\n"
     ]
    },
    {
     "name": "stderr",
     "output_type": "stream",
     "text": [
      "Epoch [23/100]: 100%|██| 113/113 [00:02<00:00, 40.79it/s, acc=0.578, loss=0.667]\n"
     ]
    },
    {
     "name": "stdout",
     "output_type": "stream",
     "text": [
      "Validation accuracy 0.4828808060109289\n"
     ]
    },
    {
     "name": "stderr",
     "output_type": "stream",
     "text": [
      "Epoch [24/100]: 100%|██| 113/113 [00:02<00:00, 42.42it/s, acc=0.581, loss=0.666]\n"
     ]
    },
    {
     "name": "stdout",
     "output_type": "stream",
     "text": [
      "Validation accuracy 0.5011099726775956\n"
     ]
    },
    {
     "name": "stderr",
     "output_type": "stream",
     "text": [
      "Epoch [25/100]: 100%|██| 113/113 [00:02<00:00, 39.94it/s, acc=0.578, loss=0.666]\n"
     ]
    },
    {
     "name": "stdout",
     "output_type": "stream",
     "text": [
      "Validation accuracy 0.4718237704918033\n"
     ]
    },
    {
     "name": "stderr",
     "output_type": "stream",
     "text": [
      "Epoch [26/100]: 100%|██| 113/113 [00:02<00:00, 40.96it/s, acc=0.582, loss=0.666]\n"
     ]
    },
    {
     "name": "stdout",
     "output_type": "stream",
     "text": [
      "Validation accuracy 0.48770491803278687\n"
     ]
    },
    {
     "name": "stderr",
     "output_type": "stream",
     "text": [
      "Epoch [27/100]: 100%|██| 113/113 [00:02<00:00, 39.24it/s, acc=0.583, loss=0.665]\n"
     ]
    },
    {
     "name": "stdout",
     "output_type": "stream",
     "text": [
      "Validation accuracy 0.4983777322404372\n"
     ]
    },
    {
     "name": "stderr",
     "output_type": "stream",
     "text": [
      "Epoch [28/100]: 100%|██| 113/113 [00:02<00:00, 41.42it/s, acc=0.584, loss=0.664]\n"
     ]
    },
    {
     "name": "stdout",
     "output_type": "stream",
     "text": [
      "Validation accuracy 0.5046106557377049\n"
     ]
    },
    {
     "name": "stderr",
     "output_type": "stream",
     "text": [
      "Epoch [29/100]: 100%|██| 113/113 [00:02<00:00, 38.81it/s, acc=0.589, loss=0.663]\n"
     ]
    },
    {
     "name": "stdout",
     "output_type": "stream",
     "text": [
      "Validation accuracy 0.48757684426229514\n"
     ]
    },
    {
     "name": "stderr",
     "output_type": "stream",
     "text": [
      "Epoch [30/100]: 100%|██| 113/113 [00:03<00:00, 37.59it/s, acc=0.585, loss=0.664]\n"
     ]
    },
    {
     "name": "stdout",
     "output_type": "stream",
     "text": [
      "Validation accuracy 0.4905652322404372\n"
     ]
    },
    {
     "name": "stderr",
     "output_type": "stream",
     "text": [
      "Epoch [31/100]: 100%|██| 113/113 [00:02<00:00, 38.48it/s, acc=0.585, loss=0.664]\n"
     ]
    },
    {
     "name": "stdout",
     "output_type": "stream",
     "text": [
      "Validation accuracy 0.49146174863387976\n"
     ]
    },
    {
     "name": "stderr",
     "output_type": "stream",
     "text": [
      "Epoch [32/100]: 100%|██| 113/113 [00:02<00:00, 38.84it/s, acc=0.586, loss=0.663]\n"
     ]
    },
    {
     "name": "stdout",
     "output_type": "stream",
     "text": [
      "Validation accuracy 0.514771174863388\n"
     ]
    },
    {
     "name": "stderr",
     "output_type": "stream",
     "text": [
      "Epoch [33/100]: 100%|██| 113/113 [00:02<00:00, 39.12it/s, acc=0.588, loss=0.662]\n"
     ]
    },
    {
     "name": "stdout",
     "output_type": "stream",
     "text": [
      "Validation accuracy 0.5037141393442622\n"
     ]
    },
    {
     "name": "stderr",
     "output_type": "stream",
     "text": [
      "Epoch [34/100]: 100%|███| 113/113 [00:02<00:00, 39.05it/s, acc=0.591, loss=0.66]\n"
     ]
    },
    {
     "name": "stdout",
     "output_type": "stream",
     "text": [
      "Validation accuracy 0.5040983606557378\n"
     ]
    },
    {
     "name": "stderr",
     "output_type": "stream",
     "text": [
      "Epoch [35/100]: 100%|██| 113/113 [00:02<00:00, 39.15it/s, acc=0.592, loss=0.661]\n"
     ]
    },
    {
     "name": "stdout",
     "output_type": "stream",
     "text": [
      "Validation accuracy 0.5060621584699453\n"
     ]
    },
    {
     "name": "stderr",
     "output_type": "stream",
     "text": [
      "Epoch [36/100]: 100%|██| 113/113 [00:02<00:00, 38.63it/s, acc=0.587, loss=0.661]\n"
     ]
    },
    {
     "name": "stdout",
     "output_type": "stream",
     "text": [
      "Validation accuracy 0.5126793032786886\n"
     ]
    },
    {
     "name": "stderr",
     "output_type": "stream",
     "text": [
      "Epoch [37/100]: 100%|███| 113/113 [00:02<00:00, 40.17it/s, acc=0.598, loss=0.66]\n"
     ]
    },
    {
     "name": "stdout",
     "output_type": "stream",
     "text": [
      "Validation accuracy 0.49876195355191255\n"
     ]
    },
    {
     "name": "stderr",
     "output_type": "stream",
     "text": [
      "Epoch [38/100]: 100%|██| 113/113 [00:02<00:00, 39.29it/s, acc=0.597, loss=0.657]\n"
     ]
    },
    {
     "name": "stdout",
     "output_type": "stream",
     "text": [
      "Validation accuracy 0.5009818989071039\n"
     ]
    },
    {
     "name": "stderr",
     "output_type": "stream",
     "text": [
      "Epoch [39/100]: 100%|██| 113/113 [00:02<00:00, 38.25it/s, acc=0.598, loss=0.658]\n"
     ]
    },
    {
     "name": "stdout",
     "output_type": "stream",
     "text": [
      "Validation accuracy 0.5061902322404371\n"
     ]
    },
    {
     "name": "stderr",
     "output_type": "stream",
     "text": [
      "Epoch [40/100]: 100%|██| 113/113 [00:02<00:00, 40.43it/s, acc=0.602, loss=0.656]\n"
     ]
    },
    {
     "name": "stdout",
     "output_type": "stream",
     "text": [
      "Validation accuracy 0.5091786202185792\n"
     ]
    },
    {
     "name": "stderr",
     "output_type": "stream",
     "text": [
      "Epoch [41/100]: 100%|██| 113/113 [00:02<00:00, 40.68it/s, acc=0.601, loss=0.655]\n"
     ]
    },
    {
     "name": "stdout",
     "output_type": "stream",
     "text": [
      "Validation accuracy 0.509306693989071\n"
     ]
    },
    {
     "name": "stderr",
     "output_type": "stream",
     "text": [
      "Epoch [42/100]: 100%|██| 113/113 [00:02<00:00, 38.87it/s, acc=0.606, loss=0.654]\n"
     ]
    },
    {
     "name": "stdout",
     "output_type": "stream",
     "text": [
      "Validation accuracy 0.508666325136612\n"
     ]
    },
    {
     "name": "stderr",
     "output_type": "stream",
     "text": [
      "Epoch [43/100]: 100%|██| 113/113 [00:02<00:00, 40.08it/s, acc=0.607, loss=0.654]\n"
     ]
    },
    {
     "name": "stdout",
     "output_type": "stream",
     "text": [
      "Validation accuracy 0.514130806010929\n"
     ]
    },
    {
     "name": "stderr",
     "output_type": "stream",
     "text": [
      "Epoch [44/100]: 100%|███| 113/113 [00:02<00:00, 40.62it/s, acc=0.618, loss=0.65]\n"
     ]
    },
    {
     "name": "stdout",
     "output_type": "stream",
     "text": [
      "Validation accuracy 0.537568306010929\n"
     ]
    },
    {
     "name": "stderr",
     "output_type": "stream",
     "text": [
      "Epoch [45/100]: 100%|███| 113/113 [00:02<00:00, 39.08it/s, acc=0.616, loss=0.65]\n"
     ]
    },
    {
     "name": "stdout",
     "output_type": "stream",
     "text": [
      "Validation accuracy 0.5271516393442622\n"
     ]
    },
    {
     "name": "stderr",
     "output_type": "stream",
     "text": [
      "Epoch [46/100]: 100%|██| 113/113 [00:02<00:00, 39.02it/s, acc=0.619, loss=0.647]\n"
     ]
    },
    {
     "name": "stdout",
     "output_type": "stream",
     "text": [
      "Validation accuracy 0.5223275273224044\n"
     ]
    },
    {
     "name": "stderr",
     "output_type": "stream",
     "text": [
      "Epoch [47/100]: 100%|██| 113/113 [00:02<00:00, 42.37it/s, acc=0.627, loss=0.644]\n"
     ]
    },
    {
     "name": "stdout",
     "output_type": "stream",
     "text": [
      "Validation accuracy 0.5302681010928961\n"
     ]
    },
    {
     "name": "stderr",
     "output_type": "stream",
     "text": [
      "Epoch [48/100]: 100%|██| 113/113 [00:02<00:00, 40.21it/s, acc=0.629, loss=0.644]\n"
     ]
    },
    {
     "name": "stdout",
     "output_type": "stream",
     "text": [
      "Validation accuracy 0.5367571721311476\n"
     ]
    },
    {
     "name": "stderr",
     "output_type": "stream",
     "text": [
      "Epoch [49/100]: 100%|██| 113/113 [00:02<00:00, 40.50it/s, acc=0.638, loss=0.639]\n"
     ]
    },
    {
     "name": "stdout",
     "output_type": "stream",
     "text": [
      "Validation accuracy 0.5740266393442622\n"
     ]
    },
    {
     "name": "stderr",
     "output_type": "stream",
     "text": [
      "Epoch [50/100]: 100%|██| 113/113 [00:02<00:00, 41.44it/s, acc=0.641, loss=0.636]\n"
     ]
    },
    {
     "name": "stdout",
     "output_type": "stream",
     "text": [
      "Validation accuracy 0.5770150273224044\n"
     ]
    },
    {
     "name": "stderr",
     "output_type": "stream",
     "text": [
      "Epoch [51/100]: 100%|██| 113/113 [00:02<00:00, 39.40it/s, acc=0.649, loss=0.633]\n"
     ]
    },
    {
     "name": "stdout",
     "output_type": "stream",
     "text": [
      "Validation accuracy 0.5667264344262295\n"
     ]
    },
    {
     "name": "stderr",
     "output_type": "stream",
     "text": [
      "Epoch [52/100]: 100%|██| 113/113 [00:02<00:00, 39.06it/s, acc=0.656, loss=0.628]\n"
     ]
    },
    {
     "name": "stdout",
     "output_type": "stream",
     "text": [
      "Validation accuracy 0.554474043715847\n"
     ]
    },
    {
     "name": "stderr",
     "output_type": "stream",
     "text": [
      "Epoch [53/100]: 100%|███| 113/113 [00:02<00:00, 41.30it/s, acc=0.66, loss=0.624]\n"
     ]
    },
    {
     "name": "stdout",
     "output_type": "stream",
     "text": [
      "Validation accuracy 0.5957564890710382\n"
     ]
    },
    {
     "name": "stderr",
     "output_type": "stream",
     "text": [
      "Epoch [54/100]: 100%|██| 113/113 [00:02<00:00, 39.72it/s, acc=0.674, loss=0.617]\n"
     ]
    },
    {
     "name": "stdout",
     "output_type": "stream",
     "text": [
      "Validation accuracy 0.6197062841530054\n"
     ]
    },
    {
     "name": "stderr",
     "output_type": "stream",
     "text": [
      "Epoch [55/100]: 100%|██| 113/113 [00:02<00:00, 41.26it/s, acc=0.678, loss=0.609]\n"
     ]
    },
    {
     "name": "stdout",
     "output_type": "stream",
     "text": [
      "Validation accuracy 0.6737534153005464\n"
     ]
    },
    {
     "name": "stderr",
     "output_type": "stream",
     "text": [
      "Epoch [56/100]: 100%|██| 113/113 [00:02<00:00, 41.70it/s, acc=0.688, loss=0.606]\n"
     ]
    },
    {
     "name": "stdout",
     "output_type": "stream",
     "text": [
      "Validation accuracy 0.680114412568306\n"
     ]
    },
    {
     "name": "stderr",
     "output_type": "stream",
     "text": [
      "Epoch [57/100]: 100%|██| 113/113 [00:02<00:00, 40.37it/s, acc=0.698, loss=0.596]\n"
     ]
    },
    {
     "name": "stdout",
     "output_type": "stream",
     "text": [
      "Validation accuracy 0.7010758196721311\n"
     ]
    },
    {
     "name": "stderr",
     "output_type": "stream",
     "text": [
      "Epoch [58/100]: 100%|██| 113/113 [00:02<00:00, 40.06it/s, acc=0.705, loss=0.588]\n"
     ]
    },
    {
     "name": "stdout",
     "output_type": "stream",
     "text": [
      "Validation accuracy 0.6460040983606558\n"
     ]
    },
    {
     "name": "stderr",
     "output_type": "stream",
     "text": [
      "Epoch [59/100]: 100%|██| 113/113 [00:02<00:00, 40.84it/s, acc=0.713, loss=0.581]\n"
     ]
    },
    {
     "name": "stdout",
     "output_type": "stream",
     "text": [
      "Validation accuracy 0.6745218579234972\n"
     ]
    },
    {
     "name": "stderr",
     "output_type": "stream",
     "text": [
      "Epoch [60/100]: 100%|██| 113/113 [00:02<00:00, 40.39it/s, acc=0.722, loss=0.571]\n"
     ]
    },
    {
     "name": "stdout",
     "output_type": "stream",
     "text": [
      "Validation accuracy 0.7137124316939891\n"
     ]
    },
    {
     "name": "stderr",
     "output_type": "stream",
     "text": [
      "Epoch [61/100]: 100%|███| 113/113 [00:02<00:00, 41.16it/s, acc=0.73, loss=0.561]\n"
     ]
    },
    {
     "name": "stdout",
     "output_type": "stream",
     "text": [
      "Validation accuracy 0.7202015027322405\n"
     ]
    },
    {
     "name": "stderr",
     "output_type": "stream",
     "text": [
      "Epoch [62/100]: 100%|██| 113/113 [00:02<00:00, 41.98it/s, acc=0.738, loss=0.551]\n"
     ]
    },
    {
     "name": "stdout",
     "output_type": "stream",
     "text": [
      "Validation accuracy 0.7139685792349727\n"
     ]
    },
    {
     "name": "stderr",
     "output_type": "stream",
     "text": [
      "Epoch [63/100]: 100%|██| 113/113 [00:02<00:00, 41.32it/s, acc=0.742, loss=0.541]\n"
     ]
    },
    {
     "name": "stdout",
     "output_type": "stream",
     "text": [
      "Validation accuracy 0.7324538934426229\n"
     ]
    },
    {
     "name": "stderr",
     "output_type": "stream",
     "text": [
      "Epoch [64/100]: 100%|███| 113/113 [00:02<00:00, 40.10it/s, acc=0.75, loss=0.533]\n"
     ]
    },
    {
     "name": "stdout",
     "output_type": "stream",
     "text": [
      "Validation accuracy 0.7190488387978142\n"
     ]
    },
    {
     "name": "stderr",
     "output_type": "stream",
     "text": [
      "Epoch [65/100]: 100%|██| 113/113 [00:02<00:00, 43.06it/s, acc=0.755, loss=0.525]\n"
     ]
    },
    {
     "name": "stdout",
     "output_type": "stream",
     "text": [
      "Validation accuracy 0.7375341530054644\n"
     ]
    },
    {
     "name": "stderr",
     "output_type": "stream",
     "text": [
      "Epoch [66/100]: 100%|██| 113/113 [00:02<00:00, 41.58it/s, acc=0.757, loss=0.517]\n"
     ]
    },
    {
     "name": "stdout",
     "output_type": "stream",
     "text": [
      "Validation accuracy 0.7320696721311476\n"
     ]
    },
    {
     "name": "stderr",
     "output_type": "stream",
     "text": [
      "Epoch [67/100]: 100%|███| 113/113 [00:02<00:00, 41.30it/s, acc=0.764, loss=0.51]\n"
     ]
    },
    {
     "name": "stdout",
     "output_type": "stream",
     "text": [
      "Validation accuracy 0.7617400956284154\n"
     ]
    },
    {
     "name": "stderr",
     "output_type": "stream",
     "text": [
      "Epoch [68/100]: 100%|██| 113/113 [00:02<00:00, 39.98it/s, acc=0.766, loss=0.502]\n"
     ]
    },
    {
     "name": "stdout",
     "output_type": "stream",
     "text": [
      "Validation accuracy 0.7429986338797815\n"
     ]
    },
    {
     "name": "stderr",
     "output_type": "stream",
     "text": [
      "Epoch [69/100]: 100%|██| 113/113 [00:02<00:00, 39.71it/s, acc=0.778, loss=0.493]\n"
     ]
    },
    {
     "name": "stdout",
     "output_type": "stream",
     "text": [
      "Validation accuracy 0.7480788934426229\n"
     ]
    },
    {
     "name": "stderr",
     "output_type": "stream",
     "text": [
      "Epoch [70/100]: 100%|██| 113/113 [00:02<00:00, 42.28it/s, acc=0.775, loss=0.488]\n"
     ]
    },
    {
     "name": "stdout",
     "output_type": "stream",
     "text": [
      "Validation accuracy 0.7459870218579235\n"
     ]
    },
    {
     "name": "stderr",
     "output_type": "stream",
     "text": [
      "Epoch [71/100]: 100%|██| 113/113 [00:02<00:00, 42.46it/s, acc=0.784, loss=0.479]\n"
     ]
    },
    {
     "name": "stdout",
     "output_type": "stream",
     "text": [
      "Validation accuracy 0.7398821721311476\n"
     ]
    },
    {
     "name": "stderr",
     "output_type": "stream",
     "text": [
      "Epoch [72/100]: 100%|██| 113/113 [00:02<00:00, 41.98it/s, acc=0.784, loss=0.475]\n"
     ]
    },
    {
     "name": "stdout",
     "output_type": "stream",
     "text": [
      "Validation accuracy 0.7532872267759562\n"
     ]
    },
    {
     "name": "stderr",
     "output_type": "stream",
     "text": [
      "Epoch [73/100]: 100%|███| 113/113 [00:02<00:00, 41.39it/s, acc=0.79, loss=0.469]\n"
     ]
    },
    {
     "name": "stdout",
     "output_type": "stream",
     "text": [
      "Validation accuracy 0.7686560792349727\n"
     ]
    },
    {
     "name": "stderr",
     "output_type": "stream",
     "text": [
      "Epoch [74/100]: 100%|██| 113/113 [00:02<00:00, 41.09it/s, acc=0.788, loss=0.465]\n"
     ]
    },
    {
     "name": "stdout",
     "output_type": "stream",
     "text": [
      "Validation accuracy 0.7458589480874317\n"
     ]
    },
    {
     "name": "stderr",
     "output_type": "stream",
     "text": [
      "Epoch [75/100]: 100%|██| 113/113 [00:02<00:00, 39.18it/s, acc=0.794, loss=0.457]\n"
     ]
    },
    {
     "name": "stdout",
     "output_type": "stream",
     "text": [
      "Validation accuracy 0.7640881147540983\n"
     ]
    },
    {
     "name": "stderr",
     "output_type": "stream",
     "text": [
      "Epoch [76/100]: 100%|██| 113/113 [00:02<00:00, 39.05it/s, acc=0.802, loss=0.447]\n"
     ]
    },
    {
     "name": "stdout",
     "output_type": "stream",
     "text": [
      "Validation accuracy 0.7764685792349727\n"
     ]
    },
    {
     "name": "stderr",
     "output_type": "stream",
     "text": [
      "Epoch [77/100]: 100%|██| 113/113 [00:02<00:00, 39.37it/s, acc=0.804, loss=0.443]\n"
     ]
    },
    {
     "name": "stdout",
     "output_type": "stream",
     "text": [
      "Validation accuracy 0.7774931693989071\n"
     ]
    },
    {
     "name": "stderr",
     "output_type": "stream",
     "text": [
      "Epoch [78/100]: 100%|██| 113/113 [00:02<00:00, 40.58it/s, acc=0.809, loss=0.437]\n"
     ]
    },
    {
     "name": "stdout",
     "output_type": "stream",
     "text": [
      "Validation accuracy 0.7349299863387978\n"
     ]
    },
    {
     "name": "stderr",
     "output_type": "stream",
     "text": [
      "Epoch [79/100]: 100%|███| 113/113 [00:02<00:00, 41.88it/s, acc=0.812, loss=0.43]\n"
     ]
    },
    {
     "name": "stdout",
     "output_type": "stream",
     "text": [
      "Validation accuracy 0.7717725409836066\n"
     ]
    },
    {
     "name": "stderr",
     "output_type": "stream",
     "text": [
      "Epoch [80/100]: 100%|██| 113/113 [00:02<00:00, 41.17it/s, acc=0.816, loss=0.424]\n"
     ]
    },
    {
     "name": "stdout",
     "output_type": "stream",
     "text": [
      "Validation accuracy 0.7851775956284154\n"
     ]
    },
    {
     "name": "stderr",
     "output_type": "stream",
     "text": [
      "Epoch [81/100]: 100%|██| 113/113 [00:02<00:00, 41.62it/s, acc=0.822, loss=0.416]\n"
     ]
    },
    {
     "name": "stdout",
     "output_type": "stream",
     "text": [
      "Validation accuracy 0.8009306693989071\n"
     ]
    },
    {
     "name": "stderr",
     "output_type": "stream",
     "text": [
      "Epoch [82/100]: 100%|██| 113/113 [00:02<00:00, 42.08it/s, acc=0.824, loss=0.408]\n"
     ]
    },
    {
     "name": "stdout",
     "output_type": "stream",
     "text": [
      "Validation accuracy 0.7929900956284154\n"
     ]
    },
    {
     "name": "stderr",
     "output_type": "stream",
     "text": [
      "Epoch [83/100]: 100%|██| 113/113 [00:02<00:00, 41.17it/s, acc=0.824, loss=0.406]\n"
     ]
    },
    {
     "name": "stdout",
     "output_type": "stream",
     "text": [
      "Validation accuracy 0.7742486338797815\n"
     ]
    },
    {
     "name": "stderr",
     "output_type": "stream",
     "text": [
      "Epoch [84/100]: 100%|██| 113/113 [00:02<00:00, 41.03it/s, acc=0.829, loss=0.397]\n"
     ]
    },
    {
     "name": "stdout",
     "output_type": "stream",
     "text": [
      "Validation accuracy 0.743254781420765\n"
     ]
    },
    {
     "name": "stderr",
     "output_type": "stream",
     "text": [
      "Epoch [85/100]: 100%|██| 113/113 [00:02<00:00, 41.35it/s, acc=0.828, loss=0.394]\n"
     ]
    },
    {
     "name": "stdout",
     "output_type": "stream",
     "text": [
      "Validation accuracy 0.7739924863387978\n"
     ]
    },
    {
     "name": "stderr",
     "output_type": "stream",
     "text": [
      "Epoch [86/100]: 100%|██| 113/113 [00:03<00:00, 36.85it/s, acc=0.834, loss=0.385]\n"
     ]
    },
    {
     "name": "stdout",
     "output_type": "stream",
     "text": [
      "Validation accuracy 0.789489412568306\n"
     ]
    },
    {
     "name": "stderr",
     "output_type": "stream",
     "text": [
      "Epoch [87/100]: 100%|██| 113/113 [00:02<00:00, 38.59it/s, acc=0.844, loss=0.374]\n"
     ]
    },
    {
     "name": "stdout",
     "output_type": "stream",
     "text": [
      "Validation accuracy 0.7900017076502732\n"
     ]
    },
    {
     "name": "stderr",
     "output_type": "stream",
     "text": [
      "Epoch [88/100]: 100%|██| 113/113 [00:02<00:00, 37.91it/s, acc=0.848, loss=0.365]\n"
     ]
    },
    {
     "name": "stdout",
     "output_type": "stream",
     "text": [
      "Validation accuracy 0.7873975409836066\n"
     ]
    },
    {
     "name": "stderr",
     "output_type": "stream",
     "text": [
      "Epoch [89/100]: 100%|██| 113/113 [00:02<00:00, 40.06it/s, acc=0.852, loss=0.359]\n"
     ]
    },
    {
     "name": "stdout",
     "output_type": "stream",
     "text": [
      "Validation accuracy 0.8008025956284154\n"
     ]
    },
    {
     "name": "stderr",
     "output_type": "stream",
     "text": [
      "Epoch [90/100]: 100%|██| 113/113 [00:02<00:00, 38.00it/s, acc=0.853, loss=0.351]\n"
     ]
    },
    {
     "name": "stdout",
     "output_type": "stream",
     "text": [
      "Validation accuracy 0.7976861338797815\n"
     ]
    },
    {
     "name": "stderr",
     "output_type": "stream",
     "text": [
      "Epoch [91/100]: 100%|██| 113/113 [00:02<00:00, 40.12it/s, acc=0.856, loss=0.348]\n"
     ]
    },
    {
     "name": "stdout",
     "output_type": "stream",
     "text": [
      "Validation accuracy 0.7949538934426229\n"
     ]
    },
    {
     "name": "stderr",
     "output_type": "stream",
     "text": [
      "Epoch [92/100]: 100%|██| 113/113 [00:02<00:00, 39.59it/s, acc=0.858, loss=0.341]\n"
     ]
    },
    {
     "name": "stdout",
     "output_type": "stream",
     "text": [
      "Validation accuracy 0.7974299863387978\n"
     ]
    },
    {
     "name": "stderr",
     "output_type": "stream",
     "text": [
      "Epoch [93/100]: 100%|██| 113/113 [00:02<00:00, 39.53it/s, acc=0.862, loss=0.331]\n"
     ]
    },
    {
     "name": "stdout",
     "output_type": "stream",
     "text": [
      "Validation accuracy 0.7957223360655737\n"
     ]
    },
    {
     "name": "stderr",
     "output_type": "stream",
     "text": [
      "Epoch [94/100]: 100%|██| 113/113 [00:02<00:00, 37.71it/s, acc=0.866, loss=0.331]\n"
     ]
    },
    {
     "name": "stdout",
     "output_type": "stream",
     "text": [
      "Validation accuracy 0.7953381147540983\n"
     ]
    },
    {
     "name": "stderr",
     "output_type": "stream",
     "text": [
      "Epoch [95/100]: 100%|██| 113/113 [00:02<00:00, 39.44it/s, acc=0.875, loss=0.318]\n"
     ]
    },
    {
     "name": "stdout",
     "output_type": "stream",
     "text": [
      "Validation accuracy 0.8004183743169399\n"
     ]
    },
    {
     "name": "stderr",
     "output_type": "stream",
     "text": [
      "Epoch [96/100]: 100%|███| 113/113 [00:02<00:00, 39.01it/s, acc=0.876, loss=0.31]\n"
     ]
    },
    {
     "name": "stdout",
     "output_type": "stream",
     "text": [
      "Validation accuracy 0.790129781420765\n"
     ]
    },
    {
     "name": "stderr",
     "output_type": "stream",
     "text": [
      "Epoch [97/100]: 100%|██| 113/113 [00:02<00:00, 39.34it/s, acc=0.868, loss=0.314]\n"
     ]
    },
    {
     "name": "stdout",
     "output_type": "stream",
     "text": [
      "Validation accuracy 0.795594262295082\n"
     ]
    },
    {
     "name": "stderr",
     "output_type": "stream",
     "text": [
      "Epoch [98/100]: 100%|██| 113/113 [00:02<00:00, 38.17it/s, acc=0.882, loss=0.297]\n"
     ]
    },
    {
     "name": "stdout",
     "output_type": "stream",
     "text": [
      "Validation accuracy 0.7900017076502732\n"
     ]
    },
    {
     "name": "stderr",
     "output_type": "stream",
     "text": [
      "Epoch [99/100]: 100%|███| 113/113 [00:03<00:00, 36.71it/s, acc=0.884, loss=0.29]\n"
     ]
    },
    {
     "name": "stdout",
     "output_type": "stream",
     "text": [
      "Validation accuracy 0.7876536885245903\n"
     ]
    },
    {
     "name": "stderr",
     "output_type": "stream",
     "text": [
      "Epoch [100/100]: 100%|█| 113/113 [00:02<00:00, 37.74it/s, acc=0.889, loss=0.285]\n"
     ]
    },
    {
     "name": "stdout",
     "output_type": "stream",
     "text": [
      "Validation accuracy 0.797301912568306\n"
     ]
    }
   ],
   "source": [
    "train_dataset = dataset(split='train')\n",
    "trainDataLoader = DataLoader(train_dataset, batch_size=BATCH_SIZE, shuffle=True, collate_fn=collate_fn)\n",
    "\n",
    "val_dataset = dataset(split='val')\n",
    "valDataLoader = DataLoader(val_dataset, batch_size=BATCH_SIZE, shuffle=True, collate_fn=collate_fn)\n",
    "\n",
    "test_dataset = dataset(split='test')\n",
    "testDataLoader = DataLoader(test_dataset, batch_size=1, shuffle=False)\n",
    "\n",
    "net = Classifier()\n",
    "optimizer = optim.SGD(net.parameters(), lr=LEARNING_RATE)\n",
    "criterion = nn.CrossEntropyLoss()\n",
    "\n",
    "def calculate_accuracy(predictions, targets):\n",
    "    predicted_labels = torch.argmax(predictions, dim=1)\n",
    "    correct_predictions = (predicted_labels == targets).sum().item()\n",
    "    total_predictions = targets.size(0)\n",
    "    accuracy = correct_predictions / total_predictions\n",
    "    return accuracy\n",
    "\n",
    "def evaluate():\n",
    "    accuracies = []\n",
    "    for idx, batch in enumerate(valDataLoader):\n",
    "        x, y = batch\n",
    "        \n",
    "        with torch.no_grad():\n",
    "            accuracies.append(calculate_accuracy(net.forward(x), y))\n",
    "        \n",
    "    print(f'Validation accuracy {np.average(accuracies)}')\n",
    "    \n",
    "for epoch in range(EPOCHS):\n",
    "    progress_bar = tqdm(trainDataLoader)\n",
    "    \n",
    "    accuracies = []\n",
    "    losses = []\n",
    "    \n",
    "    for index, (x, y) in enumerate(progress_bar):        \n",
    "        optimizer.zero_grad()\n",
    "        \n",
    "        output = net.forward(x)\n",
    "        \n",
    "        loss = criterion(output, y)\n",
    "        \n",
    "        \n",
    "        loss.backward()\n",
    "        optimizer.step()\n",
    "        \n",
    "        losses.append(loss.item())\n",
    "        accuracies.append(calculate_accuracy(output, y))\n",
    "        \n",
    "        progress_bar.set_description(f'Epoch [{epoch+1}/{EPOCHS}]')\n",
    "        progress_bar.set_postfix(loss=np.average(losses), acc=np.average(accuracies))\n",
    "        \n",
    "    evaluate()"
   ]
  },
  {
   "cell_type": "markdown",
   "id": "0176606b",
   "metadata": {},
   "source": [
    "# Results and plots"
   ]
  },
  {
   "cell_type": "code",
   "execution_count": 52,
   "id": "5fb933f2",
   "metadata": {},
   "outputs": [
    {
     "data": {
      "image/png": "[encoded data removed]",
      "text/plain": [
       "<Figure size 720x360 with 1 Axes>"
      ]
     },
     "metadata": {
      "needs_background": "light"
     },
     "output_type": "display_data"
    }
   ],
   "source": [
    "# Create a range of epochs. Length should match the length of your losses list.\n",
    "epochs = range(1, len(validation_accuracies) + 1)\n",
    "\n",
    "plt.figure(figsize=(10, 5))\n",
    "plt.plot(epochs, validation_accuracies, 'r', label='Validation Accuracy')\n",
    "plt.title('Validation accuracy per epoch')\n",
    "plt.xlabel('Epochs')\n",
    "plt.ylabel('Loss')\n",
    "plt.legend()\n",
    "plt.show()"
   ]
  },
  {
   "cell_type": "code",
   "execution_count": 61,
   "id": "b8e8dc90",
   "metadata": {},
   "outputs": [
    {
     "data": {
      "image/png": "[encoded data removed]",
      "text/plain": [
       "<Figure size 720x360 with 1 Axes>"
      ]
     },
     "metadata": {
      "needs_background": "light"
     },
     "output_type": "display_data"
    }
   ],
   "source": [
    "# Create a range of epochs. Length should match the length of your losses list.\n",
    "epochs = range(1, len(val_losses) + 1)\n",
    "\n",
    "plt.figure(figsize=(10, 5))\n",
    "plt.plot(epochs, val_losses, 'b', label='Validation loss')\n",
    "plt.title('Validation loss per epoch')\n",
    "plt.xlabel('Epochs')\n",
    "plt.ylabel('Loss')\n",
    "plt.legend()\n",
    "plt.show()"
   ]
  },
  {
   "cell_type": "markdown",
   "id": "caca34e4",
   "metadata": {},
   "source": [
    "## Results\n",
    "\n",
    "We see that validation loss decrease as epochs increase and validation accuracy increase, meaning our model is producing accurate predicitons on previously unseen data by the model. This also means there are no areas of overfitting. The final accuracy is .889, nearly 90% and with no signs of a plateau to show the model reaching its most optimum point. The final loss of .285 is a large improvement from the initial .681 loss of the first epoch. With our current model, we can automatically distinguish large portions of fake data. "
   ]
  },
  {
   "cell_type": "markdown",
   "id": "55251c55",
   "metadata": {},
   "source": [
    "# Conclusion\n",
    "\n",
    "Overall the model was a success in exercise. With a bit more epochs, time, and processing power, it is possible to get a higher accuracy, as shown by the lack of loss plateauing with the current model. However, although loss is still decreasing, we can see that accuracy is beginning to only get marginal improvements per epoch, meaning that there are diminishing returns for negligible improvements after the 100th epoch. \n",
    "Some other possible improvements could be:\n",
    "- Test various word vector algorithms to optimize model performance.\n",
    "- Experiment with a wide range of hyperparameters to enhance model convergence and performance.\n",
    "- Upgrade or explore advanced network architectures to capture intricate patterns and boost overall performance."
   ]
  },
  {
   "cell_type": "markdown",
   "id": "dc444712",
   "metadata": {
    "papermill": {
     "duration": 2.63769,
     "end_time": "2023-06-06T17:29:51.641242",
     "exception": false,
     "start_time": "2023-06-06T17:29:49.003552",
     "status": "completed"
    },
    "tags": []
   },
   "source": [
    "# **Submission**\n",
    "\n",
    "A new pandas DataFrame is created to hold the data. We then loop through the DataLoader and predict for each tweet. "
   ]
  },
  {
   "cell_type": "code",
   "execution_count": 14,
   "id": "2234365c",
   "metadata": {
    "execution": {
     "iopub.execute_input": "2023-06-06T17:29:56.919909Z",
     "iopub.status.busy": "2023-06-06T17:29:56.919474Z",
     "iopub.status.idle": "2023-06-06T17:30:02.829276Z",
     "shell.execute_reply": "2023-06-06T17:30:02.827937Z"
    },
    "papermill": {
     "duration": 8.562023,
     "end_time": "2023-06-06T17:30:02.832056",
     "exception": false,
     "start_time": "2023-06-06T17:29:54.270033",
     "status": "completed"
    },
    "tags": []
   },
   "outputs": [
    {
     "name": "stderr",
     "output_type": "stream",
     "text": [
      "/tmp/ipykernel_31538/3033033919.py:3: FutureWarning: The default dtype for empty Series will be 'object' instead of 'float64' in a future version. Specify a dtype explicitly to silence this warning.\n",
      "  results = pd.DataFrame({'id': pd.Series(dtype=int), 'target': pd.Series()})\n"
     ]
    }
   ],
   "source": [
    "import pandas as pd\n",
    "\n",
    "results = pd.DataFrame({'id': pd.Series(dtype=int), 'target': pd.Series()})\n",
    "\n",
    "for batch in testDataLoader:\n",
    "    text, id = batch\n",
    "    output = net.forward(text)\n",
    "    \n",
    "    result_batch = pd.DataFrame({'id': [id.item()], 'target': [torch.argmax(output).item()]})\n",
    "    results = pd.concat([results, result_batch])\n",
    "\n",
    "results.to_csv('submission.csv', index=False)"
   ]
  },
  {
   "cell_type": "code",
   "execution_count": null,
   "id": "3baf33d6",
   "metadata": {},
   "outputs": [],
   "source": []
  },
  {
   "cell_type": "code",
   "execution_count": null,
   "id": "cf4a784d",
   "metadata": {},
   "outputs": [],
   "source": []
  }
 ],
 "metadata": {
  "kernelspec": {
   "display_name": "Python 3 (ipykernel)",
   "language": "python",
   "name": "python3"
  },
  "language_info": {
   "codemirror_mode": {
    "name": "ipython",
    "version": 3
   },
   "file_extension": ".py",
   "mimetype": "text/x-python",
   "name": "python",
   "nbconvert_exporter": "python",
   "pygments_lexer": "ipython3",
   "version": "3.10.4"
  },
  "papermill": {
   "default_parameters": {},
   "duration": 779.882873,
   "end_time": "2023-06-06T17:30:07.753801",
   "environment_variables": {},
   "exception": null,
   "input_path": "__notebook__.ipynb",
   "output_path": "__notebook__.ipynb",
   "parameters": {},
   "start_time": "2023-06-06T17:17:07.870928",
   "version": "2.4.0"
  }
 },
 "nbformat": 4,
 "nbformat_minor": 5
}
