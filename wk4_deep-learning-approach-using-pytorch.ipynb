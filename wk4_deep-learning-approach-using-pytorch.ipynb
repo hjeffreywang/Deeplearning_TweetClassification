{
 "cells": [
  {
   "cell_type": "markdown",
   "id": "f83a2350",
   "metadata": {
    "papermill": {
     "duration": 0.006079,
     "end_time": "2023-06-06T17:17:21.164781",
     "exception": false,
     "start_time": "2023-06-06T17:17:21.158702",
     "status": "completed"
    },
    "tags": []
   },
   "source": [
    "### Deep Learning approach using PyTorch\n",
    "\n",
    "***Introduction***:\n",
    "This is a simple Deep Learning approach to Text classification problem. It is very inefficient since it takes a long time to train and purely uses the \"text\" column. It scores about 78% on the validation set and goes down to a loss of about 0.2 when trained for 100 epochs.\n"
   ]
  },
  {
   "cell_type": "markdown",
   "id": "ad92854a",
   "metadata": {
    "papermill": {
     "duration": 0.005589,
     "end_time": "2023-06-06T17:17:21.176303",
     "exception": false,
     "start_time": "2023-06-06T17:17:21.170714",
     "status": "completed"
    },
    "tags": []
   },
   "source": [
    "# **Imports**\n",
    "We need the following packages:\n",
    "* pandas for loading the dataset\n",
    "* pytorch building our deep learning model\n",
    "* numpy for performing some calculations\n",
    "* tqdm for showing training progress\n",
    "* nltk for pre-processing (removing stop words)\n",
    "* re for pre-processing (filtering strings)"
   ]
  },
  {
   "cell_type": "code",
   "execution_count": 1,
   "id": "d84720ea",
   "metadata": {
    "execution": {
     "iopub.execute_input": "2023-06-06T17:17:21.190838Z",
     "iopub.status.busy": "2023-06-06T17:17:21.190127Z",
     "iopub.status.idle": "2023-06-06T17:17:27.090731Z",
     "shell.execute_reply": "2023-06-06T17:17:27.089446Z"
    },
    "papermill": {
     "duration": 5.910928,
     "end_time": "2023-06-06T17:17:27.093646",
     "exception": false,
     "start_time": "2023-06-06T17:17:21.182718",
     "status": "completed"
    },
    "tags": []
   },
   "outputs": [],
   "source": [
    "import pandas as pd\n",
    "import torch\n",
    "import torch.nn as nn\n",
    "from torch.utils.data import DataLoader, Dataset\n",
    "from torch.nn.utils.rnn import pad_sequence\n",
    "import torch.optim as optim\n",
    "import torch.nn.functional as F\n",
    "from tqdm import tqdm\n",
    "import numpy as np\n",
    "import nltk\n",
    "from nltk.corpus import stopwords\n",
    "import re"
   ]
  },
  {
   "cell_type": "markdown",
   "id": "ede1a52f",
   "metadata": {
    "papermill": {
     "duration": 0.00535,
     "end_time": "2023-06-06T17:17:27.104954",
     "exception": false,
     "start_time": "2023-06-06T17:17:27.099604",
     "status": "completed"
    },
    "tags": []
   },
   "source": [
    "# **Hyperparameters**\n",
    "We need to define hyperparameters such as the batch size and learnign rate. This is done at the start of the code rather than later for readability.\n",
    "\n",
    "Here is a list of what they do:\n",
    "1. BATCH_SIZE : Defines how many items are used each training step\n",
    "2. LEARNING_RATE : Defines the learning rate aka how much the models weights are updated each training step\n",
    "3. EPOCHS : For how long the model will train for\n",
    "4. VAL_SPLIT = This indicates how much data we use for training and validation. If it is set to 0.05, 95% of the dataset from train.csv will be used for training and the other 5% will be used to meassure the accuracy. "
   ]
  },
  {
   "cell_type": "code",
   "execution_count": 2,
   "id": "c62e8cee",
   "metadata": {
    "execution": {
     "iopub.execute_input": "2023-06-06T17:17:27.118278Z",
     "iopub.status.busy": "2023-06-06T17:17:27.117574Z",
     "iopub.status.idle": "2023-06-06T17:17:27.122986Z",
     "shell.execute_reply": "2023-06-06T17:17:27.121854Z"
    },
    "papermill": {
     "duration": 0.01514,
     "end_time": "2023-06-06T17:17:27.125634",
     "exception": false,
     "start_time": "2023-06-06T17:17:27.110494",
     "status": "completed"
    },
    "tags": []
   },
   "outputs": [],
   "source": [
    "BATCH_SIZE = 64\n",
    "LEARNING_RATE = 0.01\n",
    "EPOCHS = 100\n",
    "VAL_SPLIT = 0.05"
   ]
  },
  {
   "cell_type": "markdown",
   "id": "dab9564c",
   "metadata": {
    "papermill": {
     "duration": 0.005367,
     "end_time": "2023-06-06T17:17:27.137045",
     "exception": false,
     "start_time": "2023-06-06T17:17:27.131678",
     "status": "completed"
    },
    "tags": []
   },
   "source": [
    "# **Downloading list of stop words**\n",
    "Stop words are words that do not add meaning to a sentence. They are considered obsolete and are often removed prior to training NLP models. \n",
    "\n",
    "Here is a sample list of stop words: and, but, how, in, on, or, the, what, will\n",
    "\n",
    "Example:\n",
    "**What is a** Neural Network**?**\n",
    "\n",
    "The code below downloads a list of english stopwords using nltk"
   ]
  },
  {
   "cell_type": "code",
   "execution_count": 3,
   "id": "562b3429",
   "metadata": {
    "execution": {
     "iopub.execute_input": "2023-06-06T17:17:27.149851Z",
     "iopub.status.busy": "2023-06-06T17:17:27.149421Z",
     "iopub.status.idle": "2023-06-06T17:17:27.261813Z",
     "shell.execute_reply": "2023-06-06T17:17:27.260954Z"
    },
    "papermill": {
     "duration": 0.121731,
     "end_time": "2023-06-06T17:17:27.264280",
     "exception": false,
     "start_time": "2023-06-06T17:17:27.142549",
     "status": "completed"
    },
    "tags": []
   },
   "outputs": [
    {
     "name": "stderr",
     "output_type": "stream",
     "text": [
      "[nltk_data] Downloading package stopwords to /home/jeffwa/nltk_data...\n",
      "[nltk_data]   Package stopwords is already up-to-date!\n"
     ]
    }
   ],
   "source": [
    "nltk.download('stopwords')\n",
    "\n",
    "stop_words = set(stopwords.words('english'))"
   ]
  },
  {
   "cell_type": "markdown",
   "id": "d7528b25",
   "metadata": {
    "papermill": {
     "duration": 0.005998,
     "end_time": "2023-06-06T17:17:27.279435",
     "exception": false,
     "start_time": "2023-06-06T17:17:27.273437",
     "status": "completed"
    },
    "tags": []
   },
   "source": [
    "# **Building the encoder/decoder function**\n",
    "Next we create the encoder/decoder function. While we don't need a decoder function for text classification, I have included it anyways. \n",
    "The encoder function splits the string into all of its words and looks up the index of each one. This way we get a list of integers that can be pased through the embedding layer of the model"
   ]
  },
  {
   "cell_type": "code",
   "execution_count": 4,
   "id": "031cfc92",
   "metadata": {
    "execution": {
     "iopub.execute_input": "2023-06-06T17:17:27.293214Z",
     "iopub.status.busy": "2023-06-06T17:17:27.292241Z",
     "iopub.status.idle": "2023-06-06T17:17:27.299342Z",
     "shell.execute_reply": "2023-06-06T17:17:27.297936Z"
    },
    "papermill": {
     "duration": 0.017212,
     "end_time": "2023-06-06T17:17:27.302363",
     "exception": false,
     "start_time": "2023-06-06T17:17:27.285151",
     "status": "completed"
    },
    "tags": []
   },
   "outputs": [],
   "source": [
    "vocabulary = []\n",
    "\n",
    "def encode(str):\n",
    "    return [vocabulary.index(word) for word in str.split(' ') if word not in stop_words]\n",
    "\n",
    "\n",
    "def decode(seq):\n",
    "    return \"\".join([vocabulary[index] for index in seq])"
   ]
  },
  {
   "cell_type": "markdown",
   "id": "d1108752",
   "metadata": {
    "papermill": {
     "duration": 0.00533,
     "end_time": "2023-06-06T17:17:27.313632",
     "exception": false,
     "start_time": "2023-06-06T17:17:27.308302",
     "status": "completed"
    },
    "tags": []
   },
   "source": [
    "Our Dataset class holds the train, test or validation dataset. The train and validation dataset can be retrieved by splliting the train.csv as specified in the VAL_SPLIT. \n",
    "\n",
    "There are five main functions:\n",
    "* **collate_fn**: The collate_fn function can be parsed to the DataLoader later. We need this because all items in a batch need to have the same length. All sentences are padded with zeros to the max length using the pad_sequence function provided by PyTorch.\n",
    "* **len**: Returns the length of the dataset. This is required by PyTorch\n",
    "* **getitem**: Returns an item from the dataset\n",
    "* **clean**: This function pre-processes the dataset. At first, it converts the entire dataset to lower case. Why? Because **HeLlO** and **hello** are the same thing. Then we filter out all non-alphabetic characters and whitespace from our dataset, using a [regular expression](https://learn.microsoft.com/en-us/dotnet/standard/base-types/regular-expression-language-quick-reference). Finally, all usernames are stripped since they add little meaning and we apply encoding to the entire DataFrame. \n",
    "* **add_vocab**: This adds all words to the vocavulary"
   ]
  },
  {
   "cell_type": "code",
   "execution_count": 5,
   "id": "fe89ac04",
   "metadata": {
    "execution": {
     "iopub.execute_input": "2023-06-06T17:17:27.326738Z",
     "iopub.status.busy": "2023-06-06T17:17:27.326320Z",
     "iopub.status.idle": "2023-06-06T17:17:27.344332Z",
     "shell.execute_reply": "2023-06-06T17:17:27.343461Z"
    },
    "papermill": {
     "duration": 0.027539,
     "end_time": "2023-06-06T17:17:27.346803",
     "exception": false,
     "start_time": "2023-06-06T17:17:27.319264",
     "status": "completed"
    },
    "tags": []
   },
   "outputs": [],
   "source": [
    "class dataset(Dataset):\n",
    "    def __init__(self, split='train'):\n",
    "        self.split = split\n",
    "        \n",
    "        if split == 'train':\n",
    "            self.dataset = pd.read_csv('train.csv')\n",
    "            '''self.dataset = pd.read_csv('/kaggle/input/nlp-getting-started/train.csv')'''\n",
    "            self.dataset = self.dataset.iloc[:round(len(self.dataset) * (1 - VAL_SPLIT))]\n",
    "            \n",
    "            self.clean()\n",
    "            \n",
    "            self.X = self.dataset['text']\n",
    "            self.Y = self.dataset['target']\n",
    "        elif split == 'val':\n",
    "            self.dataset = pd.read_csv('train.csv')\n",
    "            '''self.dataset = pd.read_csv('/kaggle/input/nlp-getting-started/train.csv')'''\n",
    "            self.dataset = self.dataset.iloc[round(len(self.dataset) * (1 - VAL_SPLIT)):]\n",
    "            \n",
    "            self.clean()\n",
    "            \n",
    "            self.X = self.dataset['text']\n",
    "            self.Y = self.dataset['target']\n",
    "        else:\n",
    "            self.dataset = pd.read_csv('test.csv')\n",
    "            '''self.dataset = pd.read_csv('/kaggle/input/nlp-getting-started/test.csv')'''\n",
    "            self.clean()\n",
    "            \n",
    "            self.X = self.dataset['text']\n",
    "    \n",
    "    def add_vocab(self):\n",
    "        for str in self.dataset['text']:\n",
    "            for item in str.split(' '):\n",
    "                if item not in vocabulary and item not in stop_words:\n",
    "                    vocabulary.append(item)\n",
    "            \n",
    "    def clean(self):\n",
    "        self.dataset['text'] = self.dataset['text'].str.lower()\n",
    "        self.dataset['text'] = self.dataset['text'].str.replace('@\\w+', '', regex=True) # remove usernames\n",
    "        self.dataset['text'] = self.dataset['text'].apply(lambda x: re.sub(r'[^a-zA-Z\\s]', '', x))\n",
    "        \n",
    "        self.add_vocab()\n",
    "        \n",
    "        self.dataset['text'] = self.dataset['text'].apply(encode)\n",
    "        \n",
    "    def __len__(self):\n",
    "        return len(self.X)\n",
    "    \n",
    "    def __getitem__(self, idx):\n",
    "        if self.split == 'train' or self.split == 'val':\n",
    "            return torch.tensor(self.X.iloc[idx], dtype=torch.long), torch.tensor(self.Y.iloc[idx], dtype=torch.long)\n",
    "        else:\n",
    "            return torch.tensor(self.X.iloc[idx], dtype=torch.long), torch.tensor(self.dataset['id'].iloc[idx], dtype=torch.int)\n",
    "\n",
    "def collate_fn(batch):\n",
    "    x, y = zip(*batch)\n",
    "    return pad_sequence(x, batch_first=True, padding_value=0), torch.tensor(y)\n"
   ]
  },
  {
   "cell_type": "markdown",
   "id": "75f1bbc3",
   "metadata": {
    "papermill": {
     "duration": 0.005459,
     "end_time": "2023-06-06T17:17:27.358011",
     "exception": false,
     "start_time": "2023-06-06T17:17:27.352552",
     "status": "completed"
    },
    "tags": []
   },
   "source": [
    "# **Creating the Model**\n",
    "Our model consists of one [Embedding layer](https://pytorch.org/docs/stable/generated/torch.nn.Embedding.html) and four [Fully connected layers](https://pytorch.org/docs/stable/generated/torch.nn.Linear.html). As the embedding layer expands the dimensions of our input, we use torch.mean to reduce its dimension."
   ]
  },
  {
   "cell_type": "code",
   "execution_count": 6,
   "id": "dacbb956",
   "metadata": {
    "execution": {
     "iopub.execute_input": "2023-06-06T17:17:27.371492Z",
     "iopub.status.busy": "2023-06-06T17:17:27.370776Z",
     "iopub.status.idle": "2023-06-06T17:17:27.379218Z",
     "shell.execute_reply": "2023-06-06T17:17:27.378190Z"
    },
    "papermill": {
     "duration": 0.018274,
     "end_time": "2023-06-06T17:17:27.381883",
     "exception": false,
     "start_time": "2023-06-06T17:17:27.363609",
     "status": "completed"
    },
    "tags": []
   },
   "outputs": [],
   "source": [
    "class Classifier(nn.Module):\n",
    "    def __init__(self):\n",
    "        super().__init__()\n",
    "        \n",
    "        self.embedding = nn.Embedding(len(vocabulary), 256) # vocab size x embedding dimension\n",
    "        self.fc1 = nn.Linear(256, 512)\n",
    "        self.fc2 = nn.Linear(512, 512)\n",
    "        self.fc3 = nn.Linear(512, 512)\n",
    "        self.fc4 = nn.Linear(512, 2)\n",
    "        \n",
    "    def forward(self, x):\n",
    "        x = self.embedding(x)\n",
    "        x = F.relu(self.fc1(x))\n",
    "        x = F.relu(self.fc2(x))\n",
    "        x = F.relu(self.fc3(x))\n",
    "        x = torch.mean(x, dim=1) \n",
    "        x = self.fc4(x)\n",
    "        \n",
    "        return x\n",
    "        "
   ]
  },
  {
   "cell_type": "markdown",
   "id": "1cfaf245",
   "metadata": {
    "papermill": {
     "duration": 0.005321,
     "end_time": "2023-06-06T17:17:27.392946",
     "exception": false,
     "start_time": "2023-06-06T17:17:27.387625",
     "status": "completed"
    },
    "tags": []
   },
   "source": [
    "# **Training the model**\n",
    "First of all we start off by creating two instances of the Dataset class, one for training, one for validation, one for testing. Then we create a DataLoader for each of them.\n",
    "\n",
    "A new instance of our model, our optimizer and a CrossEntropyLoss function.\n",
    "\n",
    "We define a function to calculate the accuracy by counting the total amount of correct predictions of a batch. \n",
    "\n",
    "We define a function to evaluate the models' performance on the validation dataset using the previously defined function.\n",
    "\n",
    "Then for each epoch we loop through the batches and calculate the loss between the target batch and the networks predictions. Then we adjust the networks' weights and biases using backpropagation. The models' accuracy on the validation dataset is assesed after each epoch.\n"
   ]
  },
  {
   "cell_type": "code",
   "execution_count": 7,
   "id": "36d8aeb3",
   "metadata": {
    "execution": {
     "iopub.execute_input": "2023-06-06T17:17:27.406554Z",
     "iopub.status.busy": "2023-06-06T17:17:27.405868Z",
     "iopub.status.idle": "2023-06-06T17:29:46.198513Z",
     "shell.execute_reply": "2023-06-06T17:29:46.197270Z"
    },
    "papermill": {
     "duration": 738.802566,
     "end_time": "2023-06-06T17:29:46.201422",
     "exception": false,
     "start_time": "2023-06-06T17:17:27.398856",
     "status": "completed"
    },
    "tags": []
   },
   "outputs": [
    {
     "name": "stderr",
     "output_type": "stream",
     "text": [
      "Epoch [1/100]: 100%|███| 113/113 [00:03<00:00, 35.54it/s, acc=0.572, loss=0.681]\n"
     ]
    },
    {
     "name": "stdout",
     "output_type": "stream",
     "text": [
      "Validation accuracy 0.45436304644808745\n"
     ]
    },
    {
     "name": "stderr",
     "output_type": "stream",
     "text": [
      "Epoch [2/100]: 100%|███| 113/113 [00:03<00:00, 36.20it/s, acc=0.576, loss=0.676]\n"
     ]
    },
    {
     "name": "stdout",
     "output_type": "stream",
     "text": [
      "Validation accuracy 0.45436304644808745\n"
     ]
    },
    {
     "name": "stderr",
     "output_type": "stream",
     "text": [
      "Epoch [3/100]: 100%|███| 113/113 [00:03<00:00, 34.78it/s, acc=0.576, loss=0.675]\n"
     ]
    },
    {
     "name": "stdout",
     "output_type": "stream",
     "text": [
      "Validation accuracy 0.4553876366120219\n"
     ]
    },
    {
     "name": "stderr",
     "output_type": "stream",
     "text": [
      "Epoch [4/100]: 100%|███| 113/113 [00:02<00:00, 42.22it/s, acc=0.576, loss=0.674]\n"
     ]
    },
    {
     "name": "stdout",
     "output_type": "stream",
     "text": [
      "Validation accuracy 0.453978825136612\n"
     ]
    },
    {
     "name": "stderr",
     "output_type": "stream",
     "text": [
      "Epoch [5/100]: 100%|███| 113/113 [00:02<00:00, 43.42it/s, acc=0.576, loss=0.674]\n"
     ]
    },
    {
     "name": "stdout",
     "output_type": "stream",
     "text": [
      "Validation accuracy 0.453978825136612\n"
     ]
    },
    {
     "name": "stderr",
     "output_type": "stream",
     "text": [
      "Epoch [6/100]: 100%|███| 113/113 [00:02<00:00, 43.26it/s, acc=0.574, loss=0.672]\n"
     ]
    },
    {
     "name": "stdout",
     "output_type": "stream",
     "text": [
      "Validation accuracy 0.46166325136612024\n"
     ]
    },
    {
     "name": "stderr",
     "output_type": "stream",
     "text": [
      "Epoch [7/100]: 100%|███| 113/113 [00:02<00:00, 43.29it/s, acc=0.576, loss=0.671]\n"
     ]
    },
    {
     "name": "stdout",
     "output_type": "stream",
     "text": [
      "Validation accuracy 0.46687158469945356\n"
     ]
    },
    {
     "name": "stderr",
     "output_type": "stream",
     "text": [
      "Epoch [8/100]: 100%|███| 113/113 [00:02<00:00, 44.08it/s, acc=0.573, loss=0.671]\n"
     ]
    },
    {
     "name": "stdout",
     "output_type": "stream",
     "text": [
      "Validation accuracy 0.45594262295081966\n"
     ]
    },
    {
     "name": "stderr",
     "output_type": "stream",
     "text": [
      "Epoch [9/100]: 100%|████| 113/113 [00:02<00:00, 44.42it/s, acc=0.578, loss=0.67]\n"
     ]
    },
    {
     "name": "stdout",
     "output_type": "stream",
     "text": [
      "Validation accuracy 0.47169569672131145\n"
     ]
    },
    {
     "name": "stderr",
     "output_type": "stream",
     "text": [
      "Epoch [10/100]: 100%|██| 113/113 [00:02<00:00, 43.78it/s, acc=0.576, loss=0.671]\n"
     ]
    },
    {
     "name": "stdout",
     "output_type": "stream",
     "text": [
      "Validation accuracy 0.47780054644808745\n"
     ]
    },
    {
     "name": "stderr",
     "output_type": "stream",
     "text": [
      "Epoch [11/100]: 100%|███| 113/113 [00:02<00:00, 45.17it/s, acc=0.572, loss=0.67]\n"
     ]
    },
    {
     "name": "stdout",
     "output_type": "stream",
     "text": [
      "Validation accuracy 0.48262465846994534\n"
     ]
    },
    {
     "name": "stderr",
     "output_type": "stream",
     "text": [
      "Epoch [12/100]: 100%|███| 113/113 [00:02<00:00, 42.97it/s, acc=0.575, loss=0.67]\n"
     ]
    },
    {
     "name": "stdout",
     "output_type": "stream",
     "text": [
      "Validation accuracy 0.4832650273224044\n"
     ]
    },
    {
     "name": "stderr",
     "output_type": "stream",
     "text": [
      "Epoch [13/100]: 100%|██| 113/113 [00:02<00:00, 44.38it/s, acc=0.579, loss=0.668]\n"
     ]
    },
    {
     "name": "stdout",
     "output_type": "stream",
     "text": [
      "Validation accuracy 0.4802766393442623\n"
     ]
    },
    {
     "name": "stderr",
     "output_type": "stream",
     "text": [
      "Epoch [14/100]: 100%|██| 113/113 [00:02<00:00, 44.50it/s, acc=0.577, loss=0.669]\n"
     ]
    },
    {
     "name": "stdout",
     "output_type": "stream",
     "text": [
      "Validation accuracy 0.4723360655737705\n"
     ]
    },
    {
     "name": "stderr",
     "output_type": "stream",
     "text": [
      "Epoch [15/100]: 100%|██| 113/113 [00:02<00:00, 42.66it/s, acc=0.577, loss=0.669]\n"
     ]
    },
    {
     "name": "stdout",
     "output_type": "stream",
     "text": [
      "Validation accuracy 0.4729764344262295\n"
     ]
    },
    {
     "name": "stderr",
     "output_type": "stream",
     "text": [
      "Epoch [16/100]: 100%|██| 113/113 [00:02<00:00, 41.99it/s, acc=0.581, loss=0.668]\n"
     ]
    },
    {
     "name": "stdout",
     "output_type": "stream",
     "text": [
      "Validation accuracy 0.4750683060109289\n"
     ]
    },
    {
     "name": "stderr",
     "output_type": "stream",
     "text": [
      "Epoch [17/100]: 100%|██| 113/113 [00:02<00:00, 39.72it/s, acc=0.575, loss=0.667]\n"
     ]
    },
    {
     "name": "stdout",
     "output_type": "stream",
     "text": [
      "Validation accuracy 0.48040471311475413\n"
     ]
    },
    {
     "name": "stderr",
     "output_type": "stream",
     "text": [
      "Epoch [18/100]: 100%|██| 113/113 [00:02<00:00, 42.48it/s, acc=0.578, loss=0.668]\n"
     ]
    },
    {
     "name": "stdout",
     "output_type": "stream",
     "text": [
      "Validation accuracy 0.4744279371584699\n"
     ]
    },
    {
     "name": "stderr",
     "output_type": "stream",
     "text": [
      "Epoch [19/100]: 100%|██| 113/113 [00:02<00:00, 44.61it/s, acc=0.579, loss=0.667]\n"
     ]
    },
    {
     "name": "stdout",
     "output_type": "stream",
     "text": [
      "Validation accuracy 0.4821123633879781\n"
     ]
    },
    {
     "name": "stderr",
     "output_type": "stream",
     "text": [
      "Epoch [20/100]: 100%|██| 113/113 [00:02<00:00, 42.16it/s, acc=0.581, loss=0.666]\n"
     ]
    },
    {
     "name": "stdout",
     "output_type": "stream",
     "text": [
      "Validation accuracy 0.4952612704918033\n"
     ]
    },
    {
     "name": "stderr",
     "output_type": "stream",
     "text": [
      "Epoch [21/100]: 100%|██| 113/113 [00:02<00:00, 43.69it/s, acc=0.581, loss=0.668]\n"
     ]
    },
    {
     "name": "stdout",
     "output_type": "stream",
     "text": [
      "Validation accuracy 0.493041325136612\n"
     ]
    },
    {
     "name": "stderr",
     "output_type": "stream",
     "text": [
      "Epoch [22/100]: 100%|██| 113/113 [00:02<00:00, 42.74it/s, acc=0.582, loss=0.667]\n"
     ]
    },
    {
     "name": "stdout",
     "output_type": "stream",
     "text": [
      "Validation accuracy 0.49291325136612024\n"
     ]
    },
    {
     "name": "stderr",
     "output_type": "stream",
     "text": [
      "Epoch [23/100]: 100%|██| 113/113 [00:02<00:00, 44.63it/s, acc=0.578, loss=0.667]\n"
     ]
    },
    {
     "name": "stdout",
     "output_type": "stream",
     "text": [
      "Validation accuracy 0.5040983606557378\n"
     ]
    },
    {
     "name": "stderr",
     "output_type": "stream",
     "text": [
      "Epoch [24/100]: 100%|██| 113/113 [00:02<00:00, 42.77it/s, acc=0.578, loss=0.666]\n"
     ]
    },
    {
     "name": "stdout",
     "output_type": "stream",
     "text": [
      "Validation accuracy 0.48561304644808745\n"
     ]
    },
    {
     "name": "stderr",
     "output_type": "stream",
     "text": [
      "Epoch [25/100]: 100%|███| 113/113 [00:02<00:00, 42.53it/s, acc=0.58, loss=0.665]\n"
     ]
    },
    {
     "name": "stdout",
     "output_type": "stream",
     "text": [
      "Validation accuracy 0.49667008196721313\n"
     ]
    },
    {
     "name": "stderr",
     "output_type": "stream",
     "text": [
      "Epoch [26/100]: 100%|██| 113/113 [00:02<00:00, 40.32it/s, acc=0.586, loss=0.665]\n"
     ]
    },
    {
     "name": "stdout",
     "output_type": "stream",
     "text": [
      "Validation accuracy 0.49094945355191255\n"
     ]
    },
    {
     "name": "stderr",
     "output_type": "stream",
     "text": [
      "Epoch [27/100]: 100%|██| 113/113 [00:02<00:00, 41.17it/s, acc=0.577, loss=0.665]\n"
     ]
    },
    {
     "name": "stdout",
     "output_type": "stream",
     "text": [
      "Validation accuracy 0.49419398907103823\n"
     ]
    },
    {
     "name": "stderr",
     "output_type": "stream",
     "text": [
      "Epoch [28/100]: 100%|███| 113/113 [00:02<00:00, 42.83it/s, acc=0.58, loss=0.664]\n"
     ]
    },
    {
     "name": "stdout",
     "output_type": "stream",
     "text": [
      "Validation accuracy 0.4886014344262295\n"
     ]
    },
    {
     "name": "stderr",
     "output_type": "stream",
     "text": [
      "Epoch [29/100]: 100%|██| 113/113 [00:02<00:00, 41.95it/s, acc=0.586, loss=0.664]\n"
     ]
    },
    {
     "name": "stdout",
     "output_type": "stream",
     "text": [
      "Validation accuracy 0.4796362704918033\n"
     ]
    },
    {
     "name": "stderr",
     "output_type": "stream",
     "text": [
      "Epoch [30/100]: 100%|██| 113/113 [00:02<00:00, 41.85it/s, acc=0.588, loss=0.662]\n"
     ]
    },
    {
     "name": "stdout",
     "output_type": "stream",
     "text": [
      "Validation accuracy 0.49278517759562845\n"
     ]
    },
    {
     "name": "stderr",
     "output_type": "stream",
     "text": [
      "Epoch [31/100]: 100%|██| 113/113 [00:02<00:00, 41.92it/s, acc=0.589, loss=0.664]\n"
     ]
    },
    {
     "name": "stdout",
     "output_type": "stream",
     "text": [
      "Validation accuracy 0.48497267759562845\n"
     ]
    },
    {
     "name": "stderr",
     "output_type": "stream",
     "text": [
      "Epoch [32/100]: 100%|██| 113/113 [00:02<00:00, 43.73it/s, acc=0.587, loss=0.662]\n"
     ]
    },
    {
     "name": "stdout",
     "output_type": "stream",
     "text": [
      "Validation accuracy 0.49824965846994534\n"
     ]
    },
    {
     "name": "stderr",
     "output_type": "stream",
     "text": [
      "Epoch [33/100]: 100%|███| 113/113 [00:02<00:00, 43.99it/s, acc=0.59, loss=0.661]\n"
     ]
    },
    {
     "name": "stdout",
     "output_type": "stream",
     "text": [
      "Validation accuracy 0.4853568989071038\n"
     ]
    },
    {
     "name": "stderr",
     "output_type": "stream",
     "text": [
      "Epoch [34/100]: 100%|████| 113/113 [00:02<00:00, 42.82it/s, acc=0.6, loss=0.659]\n"
     ]
    },
    {
     "name": "stdout",
     "output_type": "stream",
     "text": [
      "Validation accuracy 0.48757684426229514\n"
     ]
    },
    {
     "name": "stderr",
     "output_type": "stream",
     "text": [
      "Epoch [35/100]: 100%|██| 113/113 [00:02<00:00, 41.43it/s, acc=0.593, loss=0.659]\n"
     ]
    },
    {
     "name": "stdout",
     "output_type": "stream",
     "text": [
      "Validation accuracy 0.4920167349726776\n"
     ]
    },
    {
     "name": "stderr",
     "output_type": "stream",
     "text": [
      "Epoch [36/100]: 100%|██| 113/113 [00:02<00:00, 42.01it/s, acc=0.595, loss=0.658]\n"
     ]
    },
    {
     "name": "stdout",
     "output_type": "stream",
     "text": [
      "Validation accuracy 0.5003415300546448\n"
     ]
    },
    {
     "name": "stderr",
     "output_type": "stream",
     "text": [
      "Epoch [37/100]: 100%|██| 113/113 [00:02<00:00, 43.22it/s, acc=0.594, loss=0.659]\n"
     ]
    },
    {
     "name": "stdout",
     "output_type": "stream",
     "text": [
      "Validation accuracy 0.506958674863388\n"
     ]
    },
    {
     "name": "stderr",
     "output_type": "stream",
     "text": [
      "Epoch [38/100]: 100%|██| 113/113 [00:02<00:00, 43.14it/s, acc=0.598, loss=0.658]\n"
     ]
    },
    {
     "name": "stdout",
     "output_type": "stream",
     "text": [
      "Validation accuracy 0.49082137978142076\n"
     ]
    },
    {
     "name": "stderr",
     "output_type": "stream",
     "text": [
      "Epoch [39/100]: 100%|██| 113/113 [00:02<00:00, 42.74it/s, acc=0.604, loss=0.655]\n"
     ]
    },
    {
     "name": "stdout",
     "output_type": "stream",
     "text": [
      "Validation accuracy 0.5059340846994536\n"
     ]
    },
    {
     "name": "stderr",
     "output_type": "stream",
     "text": [
      "Epoch [40/100]: 100%|██| 113/113 [00:02<00:00, 43.35it/s, acc=0.604, loss=0.655]\n"
     ]
    },
    {
     "name": "stdout",
     "output_type": "stream",
     "text": [
      "Validation accuracy 0.5096909153005464\n"
     ]
    },
    {
     "name": "stderr",
     "output_type": "stream",
     "text": [
      "Epoch [41/100]: 100%|██| 113/113 [00:02<00:00, 41.47it/s, acc=0.609, loss=0.652]\n"
     ]
    },
    {
     "name": "stdout",
     "output_type": "stream",
     "text": [
      "Validation accuracy 0.5003415300546448\n"
     ]
    },
    {
     "name": "stderr",
     "output_type": "stream",
     "text": [
      "Epoch [42/100]: 100%|██| 113/113 [00:02<00:00, 41.52it/s, acc=0.612, loss=0.652]\n"
     ]
    },
    {
     "name": "stdout",
     "output_type": "stream",
     "text": [
      "Validation accuracy 0.521943306010929\n"
     ]
    },
    {
     "name": "stderr",
     "output_type": "stream",
     "text": [
      "Epoch [43/100]: 100%|███| 113/113 [00:02<00:00, 42.79it/s, acc=0.61, loss=0.649]\n"
     ]
    },
    {
     "name": "stdout",
     "output_type": "stream",
     "text": [
      "Validation accuracy 0.5150273224043715\n"
     ]
    },
    {
     "name": "stderr",
     "output_type": "stream",
     "text": [
      "Epoch [44/100]: 100%|██| 113/113 [00:02<00:00, 40.57it/s, acc=0.614, loss=0.649]\n"
     ]
    },
    {
     "name": "stdout",
     "output_type": "stream",
     "text": [
      "Validation accuracy 0.5064463797814208\n"
     ]
    },
    {
     "name": "stderr",
     "output_type": "stream",
     "text": [
      "Epoch [45/100]: 100%|██| 113/113 [00:02<00:00, 41.22it/s, acc=0.615, loss=0.648]\n"
     ]
    },
    {
     "name": "stdout",
     "output_type": "stream",
     "text": [
      "Validation accuracy 0.5091786202185792\n"
     ]
    },
    {
     "name": "stderr",
     "output_type": "stream",
     "text": [
      "Epoch [46/100]: 100%|██| 113/113 [00:02<00:00, 40.10it/s, acc=0.624, loss=0.645]\n"
     ]
    },
    {
     "name": "stdout",
     "output_type": "stream",
     "text": [
      "Validation accuracy 0.5257001366120219\n"
     ]
    },
    {
     "name": "stderr",
     "output_type": "stream",
     "text": [
      "Epoch [47/100]: 100%|██| 113/113 [00:02<00:00, 41.41it/s, acc=0.632, loss=0.642]\n"
     ]
    },
    {
     "name": "stdout",
     "output_type": "stream",
     "text": [
      "Validation accuracy 0.5350922131147541\n"
     ]
    },
    {
     "name": "stderr",
     "output_type": "stream",
     "text": [
      "Epoch [48/100]: 100%|██| 113/113 [00:02<00:00, 42.30it/s, acc=0.638, loss=0.639]\n"
     ]
    },
    {
     "name": "stdout",
     "output_type": "stream",
     "text": [
      "Validation accuracy 0.5432889344262295\n"
     ]
    },
    {
     "name": "stderr",
     "output_type": "stream",
     "text": [
      "Epoch [49/100]: 100%|██| 113/113 [00:02<00:00, 42.16it/s, acc=0.637, loss=0.637]\n"
     ]
    },
    {
     "name": "stdout",
     "output_type": "stream",
     "text": [
      "Validation accuracy 0.5487534153005464\n"
     ]
    },
    {
     "name": "stderr",
     "output_type": "stream",
     "text": [
      "Epoch [50/100]: 100%|███| 113/113 [00:02<00:00, 42.10it/s, acc=0.64, loss=0.634]\n"
     ]
    },
    {
     "name": "stdout",
     "output_type": "stream",
     "text": [
      "Validation accuracy 0.5746670081967213\n"
     ]
    },
    {
     "name": "stderr",
     "output_type": "stream",
     "text": [
      "Epoch [51/100]: 100%|██| 113/113 [00:02<00:00, 41.46it/s, acc=0.651, loss=0.629]\n"
     ]
    },
    {
     "name": "stdout",
     "output_type": "stream",
     "text": [
      "Validation accuracy 0.5798753415300547\n"
     ]
    },
    {
     "name": "stderr",
     "output_type": "stream",
     "text": [
      "Epoch [52/100]: 100%|███| 113/113 [00:02<00:00, 42.75it/s, acc=0.66, loss=0.624]\n"
     ]
    },
    {
     "name": "stdout",
     "output_type": "stream",
     "text": [
      "Validation accuracy 0.6552681010928961\n"
     ]
    },
    {
     "name": "stderr",
     "output_type": "stream",
     "text": [
      "Epoch [53/100]: 100%|███| 113/113 [00:02<00:00, 40.43it/s, acc=0.668, loss=0.62]\n"
     ]
    },
    {
     "name": "stdout",
     "output_type": "stream",
     "text": [
      "Validation accuracy 0.6329832650273224\n"
     ]
    },
    {
     "name": "stderr",
     "output_type": "stream",
     "text": [
      "Epoch [54/100]: 100%|██| 113/113 [00:02<00:00, 42.02it/s, acc=0.672, loss=0.615]\n"
     ]
    },
    {
     "name": "stdout",
     "output_type": "stream",
     "text": [
      "Validation accuracy 0.6525358606557378\n"
     ]
    },
    {
     "name": "stderr",
     "output_type": "stream",
     "text": [
      "Epoch [55/100]: 100%|██| 113/113 [00:02<00:00, 41.45it/s, acc=0.679, loss=0.608]\n"
     ]
    },
    {
     "name": "stdout",
     "output_type": "stream",
     "text": [
      "Validation accuracy 0.6646174863387978\n"
     ]
    },
    {
     "name": "stderr",
     "output_type": "stream",
     "text": [
      "Epoch [56/100]: 100%|██| 113/113 [00:02<00:00, 41.42it/s, acc=0.686, loss=0.601]\n"
     ]
    },
    {
     "name": "stdout",
     "output_type": "stream",
     "text": [
      "Validation accuracy 0.62713456284153\n"
     ]
    },
    {
     "name": "stderr",
     "output_type": "stream",
     "text": [
      "Epoch [57/100]: 100%|██| 113/113 [00:02<00:00, 41.68it/s, acc=0.692, loss=0.593]\n"
     ]
    },
    {
     "name": "stdout",
     "output_type": "stream",
     "text": [
      "Validation accuracy 0.6763575819672131\n"
     ]
    },
    {
     "name": "stderr",
     "output_type": "stream",
     "text": [
      "Epoch [58/100]: 100%|██| 113/113 [00:02<00:00, 40.71it/s, acc=0.703, loss=0.586]\n"
     ]
    },
    {
     "name": "stdout",
     "output_type": "stream",
     "text": [
      "Validation accuracy 0.6922387295081966\n"
     ]
    },
    {
     "name": "stderr",
     "output_type": "stream",
     "text": [
      "Epoch [59/100]: 100%|██| 113/113 [00:02<00:00, 41.88it/s, acc=0.709, loss=0.576]\n"
     ]
    },
    {
     "name": "stdout",
     "output_type": "stream",
     "text": [
      "Validation accuracy 0.6875426912568305\n"
     ]
    },
    {
     "name": "stderr",
     "output_type": "stream",
     "text": [
      "Epoch [60/100]: 100%|███| 113/113 [00:02<00:00, 42.99it/s, acc=0.72, loss=0.566]\n"
     ]
    },
    {
     "name": "stdout",
     "output_type": "stream",
     "text": [
      "Validation accuracy 0.7040642076502732\n"
     ]
    },
    {
     "name": "stderr",
     "output_type": "stream",
     "text": [
      "Epoch [61/100]: 100%|██| 113/113 [00:02<00:00, 42.10it/s, acc=0.728, loss=0.558]\n"
     ]
    },
    {
     "name": "stdout",
     "output_type": "stream",
     "text": [
      "Validation accuracy 0.6932633196721311\n"
     ]
    },
    {
     "name": "stderr",
     "output_type": "stream",
     "text": [
      "Epoch [62/100]: 100%|██| 113/113 [00:02<00:00, 41.00it/s, acc=0.736, loss=0.549]\n"
     ]
    },
    {
     "name": "stdout",
     "output_type": "stream",
     "text": [
      "Validation accuracy 0.7109801912568305\n"
     ]
    },
    {
     "name": "stderr",
     "output_type": "stream",
     "text": [
      "Epoch [63/100]: 100%|██| 113/113 [00:02<00:00, 40.53it/s, acc=0.741, loss=0.539]\n"
     ]
    },
    {
     "name": "stdout",
     "output_type": "stream",
     "text": [
      "Validation accuracy 0.7220372267759562\n"
     ]
    },
    {
     "name": "stderr",
     "output_type": "stream",
     "text": [
      "Epoch [64/100]: 100%|██| 113/113 [00:02<00:00, 40.84it/s, acc=0.747, loss=0.532]\n"
     ]
    },
    {
     "name": "stdout",
     "output_type": "stream",
     "text": [
      "Validation accuracy 0.7429986338797815\n"
     ]
    },
    {
     "name": "stderr",
     "output_type": "stream",
     "text": [
      "Epoch [65/100]: 100%|██| 113/113 [00:02<00:00, 39.94it/s, acc=0.754, loss=0.521]\n"
     ]
    },
    {
     "name": "stdout",
     "output_type": "stream",
     "text": [
      "Validation accuracy 0.7329661885245903\n"
     ]
    },
    {
     "name": "stderr",
     "output_type": "stream",
     "text": [
      "Epoch [66/100]: 100%|██| 113/113 [00:02<00:00, 41.06it/s, acc=0.756, loss=0.512]\n"
     ]
    },
    {
     "name": "stdout",
     "output_type": "stream",
     "text": [
      "Validation accuracy 0.7234887295081966\n"
     ]
    },
    {
     "name": "stderr",
     "output_type": "stream",
     "text": [
      "Epoch [67/100]: 100%|██| 113/113 [00:02<00:00, 42.17it/s, acc=0.767, loss=0.505]\n"
     ]
    },
    {
     "name": "stdout",
     "output_type": "stream",
     "text": [
      "Validation accuracy 0.7375341530054644\n"
     ]
    },
    {
     "name": "stderr",
     "output_type": "stream",
     "text": [
      "Epoch [68/100]: 100%|██| 113/113 [00:02<00:00, 41.53it/s, acc=0.768, loss=0.495]\n"
     ]
    },
    {
     "name": "stdout",
     "output_type": "stream",
     "text": [
      "Validation accuracy 0.7374060792349727\n"
     ]
    },
    {
     "name": "stderr",
     "output_type": "stream",
     "text": [
      "Epoch [69/100]: 100%|███| 113/113 [00:02<00:00, 40.36it/s, acc=0.773, loss=0.49]\n"
     ]
    },
    {
     "name": "stdout",
     "output_type": "stream",
     "text": [
      "Validation accuracy 0.7456028005464481\n"
     ]
    },
    {
     "name": "stderr",
     "output_type": "stream",
     "text": [
      "Epoch [70/100]: 100%|██| 113/113 [00:02<00:00, 42.87it/s, acc=0.777, loss=0.483]\n"
     ]
    },
    {
     "name": "stdout",
     "output_type": "stream",
     "text": [
      "Validation accuracy 0.7534153005464481\n"
     ]
    },
    {
     "name": "stderr",
     "output_type": "stream",
     "text": [
      "Epoch [71/100]: 100%|██| 113/113 [00:02<00:00, 41.96it/s, acc=0.781, loss=0.475]\n"
     ]
    },
    {
     "name": "stdout",
     "output_type": "stream",
     "text": [
      "Validation accuracy 0.7483350409836066\n"
     ]
    },
    {
     "name": "stderr",
     "output_type": "stream",
     "text": [
      "Epoch [72/100]: 100%|██| 113/113 [00:02<00:00, 40.94it/s, acc=0.784, loss=0.472]\n"
     ]
    },
    {
     "name": "stdout",
     "output_type": "stream",
     "text": [
      "Validation accuracy 0.7617400956284154\n"
     ]
    },
    {
     "name": "stderr",
     "output_type": "stream",
     "text": [
      "Epoch [73/100]: 100%|██| 113/113 [00:02<00:00, 43.31it/s, acc=0.787, loss=0.464]\n"
     ]
    },
    {
     "name": "stdout",
     "output_type": "stream",
     "text": [
      "Validation accuracy 0.7508111338797815\n"
     ]
    },
    {
     "name": "stderr",
     "output_type": "stream",
     "text": [
      "Epoch [74/100]: 100%|██| 113/113 [00:02<00:00, 42.72it/s, acc=0.797, loss=0.456]\n"
     ]
    },
    {
     "name": "stdout",
     "output_type": "stream",
     "text": [
      "Validation accuracy 0.7479508196721311\n"
     ]
    },
    {
     "name": "stderr",
     "output_type": "stream",
     "text": [
      "Epoch [75/100]: 100%|██| 113/113 [00:02<00:00, 41.16it/s, acc=0.796, loss=0.452]\n"
     ]
    },
    {
     "name": "stdout",
     "output_type": "stream",
     "text": [
      "Validation accuracy 0.7584955601092895\n"
     ]
    },
    {
     "name": "stderr",
     "output_type": "stream",
     "text": [
      "Epoch [76/100]: 100%|██| 113/113 [00:02<00:00, 40.96it/s, acc=0.799, loss=0.444]\n"
     ]
    },
    {
     "name": "stdout",
     "output_type": "stream",
     "text": [
      "Validation accuracy 0.7687841530054644\n"
     ]
    },
    {
     "name": "stderr",
     "output_type": "stream",
     "text": [
      "Epoch [77/100]: 100%|██| 113/113 [00:02<00:00, 41.97it/s, acc=0.805, loss=0.437]\n"
     ]
    },
    {
     "name": "stdout",
     "output_type": "stream",
     "text": [
      "Validation accuracy 0.7502988387978142\n"
     ]
    },
    {
     "name": "stderr",
     "output_type": "stream",
     "text": [
      "Epoch [78/100]: 100%|██| 113/113 [00:02<00:00, 41.29it/s, acc=0.808, loss=0.431]\n"
     ]
    },
    {
     "name": "stdout",
     "output_type": "stream",
     "text": [
      "Validation accuracy 0.7405225409836066\n"
     ]
    },
    {
     "name": "stderr",
     "output_type": "stream",
     "text": [
      "Epoch [79/100]: 100%|██| 113/113 [00:02<00:00, 41.07it/s, acc=0.812, loss=0.421]\n"
     ]
    },
    {
     "name": "stdout",
     "output_type": "stream",
     "text": [
      "Validation accuracy 0.7825734289617486\n"
     ]
    },
    {
     "name": "stderr",
     "output_type": "stream",
     "text": [
      "Epoch [80/100]: 100%|██| 113/113 [00:02<00:00, 43.31it/s, acc=0.816, loss=0.417]\n"
     ]
    },
    {
     "name": "stdout",
     "output_type": "stream",
     "text": [
      "Validation accuracy 0.7687841530054644\n"
     ]
    },
    {
     "name": "stderr",
     "output_type": "stream",
     "text": [
      "Epoch [81/100]: 100%|██| 113/113 [00:02<00:00, 42.22it/s, acc=0.819, loss=0.411]\n"
     ]
    },
    {
     "name": "stdout",
     "output_type": "stream",
     "text": [
      "Validation accuracy 0.7717725409836066\n"
     ]
    },
    {
     "name": "stderr",
     "output_type": "stream",
     "text": [
      "Epoch [82/100]: 100%|██| 113/113 [00:02<00:00, 38.53it/s, acc=0.821, loss=0.408]\n"
     ]
    },
    {
     "name": "stdout",
     "output_type": "stream",
     "text": [
      "Validation accuracy 0.7584955601092895\n"
     ]
    },
    {
     "name": "stderr",
     "output_type": "stream",
     "text": [
      "Epoch [83/100]: 100%|██| 113/113 [00:02<00:00, 41.64it/s, acc=0.829, loss=0.394]\n"
     ]
    },
    {
     "name": "stdout",
     "output_type": "stream",
     "text": [
      "Validation accuracy 0.7840249316939891\n"
     ]
    },
    {
     "name": "stderr",
     "output_type": "stream",
     "text": [
      "Epoch [84/100]: 100%|██| 113/113 [00:02<00:00, 42.49it/s, acc=0.834, loss=0.388]\n"
     ]
    },
    {
     "name": "stdout",
     "output_type": "stream",
     "text": [
      "Validation accuracy 0.7663080601092895\n"
     ]
    },
    {
     "name": "stderr",
     "output_type": "stream",
     "text": [
      "Epoch [85/100]: 100%|██| 113/113 [00:02<00:00, 40.99it/s, acc=0.837, loss=0.381]\n"
     ]
    },
    {
     "name": "stdout",
     "output_type": "stream",
     "text": [
      "Validation accuracy 0.7897455601092895\n"
     ]
    },
    {
     "name": "stderr",
     "output_type": "stream",
     "text": [
      "Epoch [86/100]: 100%|██| 113/113 [00:02<00:00, 43.48it/s, acc=0.843, loss=0.371]\n"
     ]
    },
    {
     "name": "stdout",
     "output_type": "stream",
     "text": [
      "Validation accuracy 0.7690403005464481\n"
     ]
    },
    {
     "name": "stderr",
     "output_type": "stream",
     "text": [
      "Epoch [87/100]: 100%|██| 113/113 [00:02<00:00, 42.03it/s, acc=0.843, loss=0.366]\n"
     ]
    },
    {
     "name": "stdout",
     "output_type": "stream",
     "text": [
      "Validation accuracy 0.779969262295082\n"
     ]
    },
    {
     "name": "stderr",
     "output_type": "stream",
     "text": [
      "Epoch [88/100]: 100%|███| 113/113 [00:02<00:00, 42.51it/s, acc=0.85, loss=0.357]\n"
     ]
    },
    {
     "name": "stdout",
     "output_type": "stream",
     "text": [
      "Validation accuracy 0.7798411885245903\n"
     ]
    },
    {
     "name": "stderr",
     "output_type": "stream",
     "text": [
      "Epoch [89/100]: 100%|██| 113/113 [00:02<00:00, 40.71it/s, acc=0.849, loss=0.357]\n"
     ]
    },
    {
     "name": "stdout",
     "output_type": "stream",
     "text": [
      "Validation accuracy 0.7847933743169399\n"
     ]
    },
    {
     "name": "stderr",
     "output_type": "stream",
     "text": [
      "Epoch [90/100]: 100%|██| 113/113 [00:02<00:00, 41.70it/s, acc=0.856, loss=0.348]\n"
     ]
    },
    {
     "name": "stdout",
     "output_type": "stream",
     "text": [
      "Validation accuracy 0.7842810792349727\n"
     ]
    },
    {
     "name": "stderr",
     "output_type": "stream",
     "text": [
      "Epoch [91/100]: 100%|███| 113/113 [00:02<00:00, 41.74it/s, acc=0.86, loss=0.335]\n"
     ]
    },
    {
     "name": "stdout",
     "output_type": "stream",
     "text": [
      "Validation accuracy 0.7902578551912569\n"
     ]
    },
    {
     "name": "stderr",
     "output_type": "stream",
     "text": [
      "Epoch [92/100]: 100%|██| 113/113 [00:02<00:00, 41.53it/s, acc=0.865, loss=0.329]\n"
     ]
    },
    {
     "name": "stdout",
     "output_type": "stream",
     "text": [
      "Validation accuracy 0.8023821721311476\n"
     ]
    },
    {
     "name": "stderr",
     "output_type": "stream",
     "text": [
      "Epoch [93/100]: 100%|██| 113/113 [00:02<00:00, 41.75it/s, acc=0.869, loss=0.322]\n"
     ]
    },
    {
     "name": "stdout",
     "output_type": "stream",
     "text": [
      "Validation accuracy 0.7922216530054644\n"
     ]
    },
    {
     "name": "stderr",
     "output_type": "stream",
     "text": [
      "Epoch [94/100]: 100%|██| 113/113 [00:02<00:00, 42.95it/s, acc=0.873, loss=0.316]\n"
     ]
    },
    {
     "name": "stdout",
     "output_type": "stream",
     "text": [
      "Validation accuracy 0.8004183743169399\n"
     ]
    },
    {
     "name": "stderr",
     "output_type": "stream",
     "text": [
      "Epoch [95/100]: 100%|██| 113/113 [00:02<00:00, 42.43it/s, acc=0.877, loss=0.306]\n"
     ]
    },
    {
     "name": "stdout",
     "output_type": "stream",
     "text": [
      "Validation accuracy 0.7872694672131147\n"
     ]
    },
    {
     "name": "stderr",
     "output_type": "stream",
     "text": [
      "Epoch [96/100]: 100%|██| 113/113 [00:02<00:00, 40.81it/s, acc=0.872, loss=0.311]\n"
     ]
    },
    {
     "name": "stdout",
     "output_type": "stream",
     "text": [
      "Validation accuracy 0.7850495218579235\n"
     ]
    },
    {
     "name": "stderr",
     "output_type": "stream",
     "text": [
      "Epoch [97/100]: 100%|██| 113/113 [00:02<00:00, 41.39it/s, acc=0.878, loss=0.298]\n"
     ]
    },
    {
     "name": "stdout",
     "output_type": "stream",
     "text": [
      "Validation accuracy 0.7945696721311476\n"
     ]
    },
    {
     "name": "stderr",
     "output_type": "stream",
     "text": [
      "Epoch [98/100]: 100%|██| 113/113 [00:02<00:00, 42.13it/s, acc=0.877, loss=0.293]\n"
     ]
    },
    {
     "name": "stdout",
     "output_type": "stream",
     "text": [
      "Validation accuracy 0.7971738387978142\n"
     ]
    },
    {
     "name": "stderr",
     "output_type": "stream",
     "text": [
      "Epoch [99/100]: 100%|██| 113/113 [00:02<00:00, 41.28it/s, acc=0.887, loss=0.286]\n"
     ]
    },
    {
     "name": "stdout",
     "output_type": "stream",
     "text": [
      "Validation accuracy 0.7902578551912569\n"
     ]
    },
    {
     "name": "stderr",
     "output_type": "stream",
     "text": [
      "Epoch [100/100]: 100%|█| 113/113 [00:02<00:00, 42.73it/s, acc=0.894, loss=0.271]\n"
     ]
    },
    {
     "name": "stdout",
     "output_type": "stream",
     "text": [
      "Validation accuracy 0.7929900956284154\n"
     ]
    }
   ],
   "source": [
    "train_dataset = dataset(split='train')\n",
    "trainDataLoader = DataLoader(train_dataset, batch_size=BATCH_SIZE, shuffle=True, collate_fn=collate_fn)\n",
    "\n",
    "val_dataset = dataset(split='val')\n",
    "valDataLoader = DataLoader(val_dataset, batch_size=BATCH_SIZE, shuffle=True, collate_fn=collate_fn)\n",
    "\n",
    "test_dataset = dataset(split='test')\n",
    "testDataLoader = DataLoader(test_dataset, batch_size=1, shuffle=False)\n",
    "\n",
    "net = Classifier()\n",
    "optimizer = optim.SGD(net.parameters(), lr=LEARNING_RATE)\n",
    "criterion = nn.CrossEntropyLoss()\n",
    "\n",
    "def calculate_accuracy(predictions, targets):\n",
    "    predicted_labels = torch.argmax(predictions, dim=1)\n",
    "    correct_predictions = (predicted_labels == targets).sum().item()\n",
    "    total_predictions = targets.size(0)\n",
    "    accuracy = correct_predictions / total_predictions\n",
    "    return accuracy\n",
    "\n",
    "def evaluate():\n",
    "    accuracies = []\n",
    "    for idx, batch in enumerate(valDataLoader):\n",
    "        x, y = batch\n",
    "        \n",
    "        with torch.no_grad():\n",
    "            accuracies.append(calculate_accuracy(net.forward(x), y))\n",
    "        \n",
    "    print(f'Validation accuracy {np.average(accuracies)}')\n",
    "    \n",
    "for epoch in range(EPOCHS):\n",
    "    progress_bar = tqdm(trainDataLoader)\n",
    "    \n",
    "    accuracies = []\n",
    "    losses = []\n",
    "    \n",
    "    for index, (x, y) in enumerate(progress_bar):        \n",
    "        optimizer.zero_grad()\n",
    "        \n",
    "        output = net.forward(x)\n",
    "        \n",
    "        loss = criterion(output, y)\n",
    "        \n",
    "        \n",
    "        loss.backward()\n",
    "        optimizer.step()\n",
    "        \n",
    "        losses.append(loss.item())\n",
    "        accuracies.append(calculate_accuracy(output, y))\n",
    "        \n",
    "        progress_bar.set_description(f'Epoch [{epoch+1}/{EPOCHS}]')\n",
    "        progress_bar.set_postfix(loss=np.average(losses), acc=np.average(accuracies))\n",
    "        \n",
    "    evaluate()"
   ]
  },
  {
   "cell_type": "markdown",
   "id": "dc444712",
   "metadata": {
    "papermill": {
     "duration": 2.63769,
     "end_time": "2023-06-06T17:29:51.641242",
     "exception": false,
     "start_time": "2023-06-06T17:29:49.003552",
     "status": "completed"
    },
    "tags": []
   },
   "source": [
    "# **Submission**\n",
    "\n",
    "A new pandas DataFrame is created to hold the data. We then loop through the DataLoader and predict for each tweet. "
   ]
  },
  {
   "cell_type": "code",
   "execution_count": 8,
   "id": "2234365c",
   "metadata": {
    "execution": {
     "iopub.execute_input": "2023-06-06T17:29:56.919909Z",
     "iopub.status.busy": "2023-06-06T17:29:56.919474Z",
     "iopub.status.idle": "2023-06-06T17:30:02.829276Z",
     "shell.execute_reply": "2023-06-06T17:30:02.827937Z"
    },
    "papermill": {
     "duration": 8.562023,
     "end_time": "2023-06-06T17:30:02.832056",
     "exception": false,
     "start_time": "2023-06-06T17:29:54.270033",
     "status": "completed"
    },
    "tags": []
   },
   "outputs": [
    {
     "name": "stderr",
     "output_type": "stream",
     "text": [
      "/tmp/ipykernel_19573/3033033919.py:3: FutureWarning: The default dtype for empty Series will be 'object' instead of 'float64' in a future version. Specify a dtype explicitly to silence this warning.\n",
      "  results = pd.DataFrame({'id': pd.Series(dtype=int), 'target': pd.Series()})\n"
     ]
    }
   ],
   "source": [
    "import pandas as pd\n",
    "\n",
    "results = pd.DataFrame({'id': pd.Series(dtype=int), 'target': pd.Series()})\n",
    "\n",
    "for batch in testDataLoader:\n",
    "    text, id = batch\n",
    "    output = net.forward(text)\n",
    "    \n",
    "    result_batch = pd.DataFrame({'id': [id.item()], 'target': [torch.argmax(output).item()]})\n",
    "    results = pd.concat([results, result_batch])\n",
    "\n",
    "results.to_csv('submission.csv', index=False)"
   ]
  }
 ],
 "metadata": {
  "kernelspec": {
   "display_name": "Python 3 (ipykernel)",
   "language": "python",
   "name": "python3"
  },
  "language_info": {
   "codemirror_mode": {
    "name": "ipython",
    "version": 3
   },
   "file_extension": ".py",
   "mimetype": "text/x-python",
   "name": "python",
   "nbconvert_exporter": "python",
   "pygments_lexer": "ipython3",
   "version": "3.10.4"
  },
  "papermill": {
   "default_parameters": {},
   "duration": 779.882873,
   "end_time": "2023-06-06T17:30:07.753801",
   "environment_variables": {},
   "exception": null,
   "input_path": "__notebook__.ipynb",
   "output_path": "__notebook__.ipynb",
   "parameters": {},
   "start_time": "2023-06-06T17:17:07.870928",
   "version": "2.4.0"
  }
 },
 "nbformat": 4,
 "nbformat_minor": 5
}
